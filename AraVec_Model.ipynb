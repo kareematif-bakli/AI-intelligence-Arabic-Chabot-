{
  "cells": [
    {
      "cell_type": "markdown",
      "metadata": {
        "id": "N7nlMRmcJp7_"
      },
      "source": [
        "## Integrate [AraVec](https://github.com/bakrianoo/aravec) with [Spacy.io](https://spacy.io/)\n",
        "\n",
        "This notebook demonstrates how to integrate an [AraVec](https://github.com/bakrianoo/aravec) model with [spaCy.io](https://spacy.io/)\n",
        "\n",
        "## Outlines\n",
        "\n",
        "- Install/Load the required modules\n",
        "- Load AraVec\n",
        "- Export the Word2Vec format + gzip it.\n",
        "- Initialize the spaCy model using AraVec vectors\n",
        "- Run  AraVec Spacy Model\n",
        "- Test the Model\n",
        "- Using model as Word Embedding provider for user Question\n",
        "- Model Evaluation by Distance and Similarity based metrics\n",
        "- Error Analysis"
      ]
    },
    {
      "cell_type": "markdown",
      "metadata": {
        "id": "aDX5kzUJJp8B"
      },
      "source": [
        "## Install/Load the required modules"
      ]
    },
    {
      "cell_type": "code",
      "execution_count": null,
      "metadata": {
        "ExecuteTime": {
          "end_time": "2020-04-27T22:45:44.689719Z",
          "start_time": "2020-04-27T22:45:42.787139Z"
        },
        "colab": {
          "base_uri": "https://localhost:8080/"
        },
        "id": "qrruGV8IJp8C",
        "outputId": "89163bdb-a206-4900-f3aa-dd92bd89822a",
        "scrolled": true
      },
      "outputs": [
        {
          "output_type": "stream",
          "name": "stdout",
          "text": [
            "Looking in indexes: https://pypi.org/simple, https://us-python.pkg.dev/colab-wheels/public/simple/\n",
            "Requirement already satisfied: gensim in /usr/local/lib/python3.7/dist-packages (3.6.0)\n",
            "Requirement already satisfied: spacy in /usr/local/lib/python3.7/dist-packages (3.4.1)\n",
            "Requirement already satisfied: nltk in /usr/local/lib/python3.7/dist-packages (3.7)\n",
            "Requirement already satisfied: smart-open>=1.2.1 in /usr/local/lib/python3.7/dist-packages (from gensim) (5.2.1)\n",
            "Requirement already satisfied: numpy>=1.11.3 in /usr/local/lib/python3.7/dist-packages (from gensim) (1.21.6)\n",
            "Requirement already satisfied: six>=1.5.0 in /usr/local/lib/python3.7/dist-packages (from gensim) (1.15.0)\n",
            "Requirement already satisfied: scipy>=0.18.1 in /usr/local/lib/python3.7/dist-packages (from gensim) (1.7.3)\n",
            "Requirement already satisfied: catalogue<2.1.0,>=2.0.6 in /usr/local/lib/python3.7/dist-packages (from spacy) (2.0.8)\n",
            "Requirement already satisfied: srsly<3.0.0,>=2.4.3 in /usr/local/lib/python3.7/dist-packages (from spacy) (2.4.4)\n",
            "Requirement already satisfied: pathy>=0.3.5 in /usr/local/lib/python3.7/dist-packages (from spacy) (0.6.2)\n",
            "Requirement already satisfied: typing-extensions<4.2.0,>=3.7.4 in /usr/local/lib/python3.7/dist-packages (from spacy) (4.1.1)\n",
            "Requirement already satisfied: spacy-legacy<3.1.0,>=3.0.9 in /usr/local/lib/python3.7/dist-packages (from spacy) (3.0.10)\n",
            "Requirement already satisfied: langcodes<4.0.0,>=3.2.0 in /usr/local/lib/python3.7/dist-packages (from spacy) (3.3.0)\n",
            "Requirement already satisfied: jinja2 in /usr/local/lib/python3.7/dist-packages (from spacy) (2.11.3)\n",
            "Requirement already satisfied: cymem<2.1.0,>=2.0.2 in /usr/local/lib/python3.7/dist-packages (from spacy) (2.0.7)\n",
            "Requirement already satisfied: requests<3.0.0,>=2.13.0 in /usr/local/lib/python3.7/dist-packages (from spacy) (2.23.0)\n",
            "Requirement already satisfied: thinc<8.2.0,>=8.1.0 in /usr/local/lib/python3.7/dist-packages (from spacy) (8.1.4)\n",
            "Requirement already satisfied: murmurhash<1.1.0,>=0.28.0 in /usr/local/lib/python3.7/dist-packages (from spacy) (1.0.9)\n",
            "Requirement already satisfied: setuptools in /usr/local/lib/python3.7/dist-packages (from spacy) (57.4.0)\n",
            "Requirement already satisfied: spacy-loggers<2.0.0,>=1.0.0 in /usr/local/lib/python3.7/dist-packages (from spacy) (1.0.3)\n",
            "Requirement already satisfied: wasabi<1.1.0,>=0.9.1 in /usr/local/lib/python3.7/dist-packages (from spacy) (0.10.1)\n",
            "Requirement already satisfied: typer<0.5.0,>=0.3.0 in /usr/local/lib/python3.7/dist-packages (from spacy) (0.4.2)\n",
            "Requirement already satisfied: tqdm<5.0.0,>=4.38.0 in /usr/local/lib/python3.7/dist-packages (from spacy) (4.64.1)\n",
            "Requirement already satisfied: packaging>=20.0 in /usr/local/lib/python3.7/dist-packages (from spacy) (21.3)\n",
            "Requirement already satisfied: preshed<3.1.0,>=3.0.2 in /usr/local/lib/python3.7/dist-packages (from spacy) (3.0.8)\n",
            "Requirement already satisfied: pydantic!=1.8,!=1.8.1,<1.10.0,>=1.7.4 in /usr/local/lib/python3.7/dist-packages (from spacy) (1.9.2)\n",
            "Requirement already satisfied: zipp>=0.5 in /usr/local/lib/python3.7/dist-packages (from catalogue<2.1.0,>=2.0.6->spacy) (3.9.0)\n",
            "Requirement already satisfied: pyparsing!=3.0.5,>=2.0.2 in /usr/local/lib/python3.7/dist-packages (from packaging>=20.0->spacy) (3.0.9)\n",
            "Requirement already satisfied: urllib3!=1.25.0,!=1.25.1,<1.26,>=1.21.1 in /usr/local/lib/python3.7/dist-packages (from requests<3.0.0,>=2.13.0->spacy) (1.24.3)\n",
            "Requirement already satisfied: idna<3,>=2.5 in /usr/local/lib/python3.7/dist-packages (from requests<3.0.0,>=2.13.0->spacy) (2.10)\n",
            "Requirement already satisfied: chardet<4,>=3.0.2 in /usr/local/lib/python3.7/dist-packages (from requests<3.0.0,>=2.13.0->spacy) (3.0.4)\n",
            "Requirement already satisfied: certifi>=2017.4.17 in /usr/local/lib/python3.7/dist-packages (from requests<3.0.0,>=2.13.0->spacy) (2022.9.24)\n",
            "Requirement already satisfied: confection<1.0.0,>=0.0.1 in /usr/local/lib/python3.7/dist-packages (from thinc<8.2.0,>=8.1.0->spacy) (0.0.3)\n",
            "Requirement already satisfied: blis<0.8.0,>=0.7.8 in /usr/local/lib/python3.7/dist-packages (from thinc<8.2.0,>=8.1.0->spacy) (0.7.8)\n",
            "Requirement already satisfied: click<9.0.0,>=7.1.1 in /usr/local/lib/python3.7/dist-packages (from typer<0.5.0,>=0.3.0->spacy) (7.1.2)\n",
            "Requirement already satisfied: joblib in /usr/local/lib/python3.7/dist-packages (from nltk) (1.2.0)\n",
            "Requirement already satisfied: regex>=2021.8.3 in /usr/local/lib/python3.7/dist-packages (from nltk) (2022.6.2)\n",
            "Requirement already satisfied: MarkupSafe>=0.23 in /usr/local/lib/python3.7/dist-packages (from jinja2->spacy) (2.0.1)\n"
          ]
        }
      ],
      "source": [
        "!pip install gensim spacy nltk"
      ]
    },
    {
      "cell_type": "code",
      "source": [
        "from google.colab import drive\n",
        "drive.mount('/content/drive') "
      ],
      "metadata": {
        "id": "qftnU6bELVcz",
        "colab": {
          "base_uri": "https://localhost:8080/"
        },
        "outputId": "65b6d867-6f65-4f03-ba4b-376734cfd222"
      },
      "execution_count": 2,
      "outputs": [
        {
          "output_type": "stream",
          "name": "stdout",
          "text": [
            "Mounted at /content/drive\n"
          ]
        }
      ]
    },
    {
      "cell_type": "code",
      "source": [
        "from scipy.stats import spearmanr\n",
        "import gensim\n",
        "import re\n",
        "import spacy\n",
        "from scipy.spatial import distance\n",
        "from scipy.stats import pearsonr\n"
      ],
      "metadata": {
        "id": "rwotbbJCTj-g"
      },
      "execution_count": 7,
      "outputs": []
    },
    {
      "cell_type": "code",
      "execution_count": 8,
      "metadata": {
        "id": "Jr-fEfMknBZH"
      },
      "outputs": [],
      "source": [
        "\n",
        "# Clean/Normalize Arabic Text\n",
        "def clean_str(text):\n",
        "    search = [\"أ\",\"إ\",\"آ\",\"ة\",\"_\",\"-\",\"/\",\".\",\"،\",\" و \",\" يا \",'\"',\"ـ\",\"'\",\"ى\",\"\\\\\",'\\n', '\\t','&quot;','?','؟','!']\n",
        "    replace = [\"ا\",\"ا\",\"ا\",\"ه\",\" \",\" \",\"\",\"\",\"\",\" و\",\" يا\",\"\",\"\",\"\",\"ي\",\"\",' ', ' ',' ',' ? ',' ؟ ',' ! ']\n",
        "    \n",
        "    #remove tashkeel\n",
        "    p_tashkeel = re.compile(r'[\\u0617-\\u061A\\u064B-\\u0652]')\n",
        "    text = re.sub(p_tashkeel,\"\", text)\n",
        "    \n",
        "    #remove longation\n",
        "    p_longation = re.compile(r'(.)\\1+')\n",
        "    subst = r\"\\1\\1\"\n",
        "    text = re.sub(p_longation, subst, text)\n",
        "    \n",
        "    text = text.replace('وو', 'و')\n",
        "    text = text.replace('يي', 'ي')\n",
        "    text = text.replace('اا', 'ا')\n",
        "    \n",
        "    for i in range(0, len(search)):\n",
        "        text = text.replace(search[i], replace[i])\n",
        "    \n",
        "    #trim    \n",
        "    text = text.strip()\n",
        "\n",
        "    return text"
      ]
    },
    {
      "cell_type": "markdown",
      "metadata": {
        "id": "8_-qAgYQJp8L"
      },
      "source": [
        "## Load AraVec\n",
        "Download a model from the [AraVec Repository](https://github.com/bakrianoo/aravec), then follow the below steps to load it."
      ]
    },
    {
      "cell_type": "code",
      "execution_count": 5,
      "metadata": {
        "id": "Mjs_I0TUjGMP",
        "colab": {
          "base_uri": "https://localhost:8080/"
        },
        "outputId": "74959aa5-6277-4086-cf1f-23867b1b7c61"
      },
      "outputs": [
        {
          "output_type": "stream",
          "name": "stdout",
          "text": [
            "We've 1476715 vocabularies\n"
          ]
        }
      ],
      "source": [
        "# load the AraVec model\n",
        "model = gensim.models.Word2Vec.load(\"/content/drive/MyDrive/GP/full_grams_cbow_300_twitter.mdl\")\n",
        "print(\"We've\",len(model.wv.index2word),\"vocabularies\")"
      ]
    },
    {
      "cell_type": "markdown",
      "metadata": {
        "id": "Ll25Yq9KJp8d"
      },
      "source": [
        "## Export the Word2Vec format + gzip it."
      ]
    },
    {
      "cell_type": "code",
      "execution_count": null,
      "metadata": {
        "ExecuteTime": {
          "end_time": "2020-04-28T13:04:35.872005Z",
          "start_time": "2020-04-28T13:04:35.750353Z"
        },
        "id": "eYO6GPSSJp8e"
      },
      "outputs": [],
      "source": [
        "# make a directory called \"spacyModel\"\n",
        "#%mkdir spacyModel"
      ]
    },
    {
      "cell_type": "code",
      "execution_count": 6,
      "metadata": {
        "ExecuteTime": {
          "end_time": "2020-04-28T13:05:07.649631Z",
          "start_time": "2020-04-28T13:04:37.108481Z"
        },
        "id": "qrISD4ONJp8g"
      },
      "outputs": [],
      "source": [
        "# export the word2vec fomart to the directory\n",
        "model.wv.save_word2vec_format(\"/content/drive/MyDrive/GP/spacyModel/aravec.txt\")"
      ]
    },
    {
      "cell_type": "code",
      "execution_count": 7,
      "metadata": {
        "ExecuteTime": {
          "end_time": "2020-04-28T13:05:47.899536Z",
          "start_time": "2020-04-28T13:05:07.650778Z"
        },
        "id": "BvpYpLXHJp8k"
      },
      "outputs": [],
      "source": [
        "# using `gzip` to compress the .txt file\n",
        "!gzip /content/drive/MyDrive/GP/spacyModel/aravec.txt"
      ]
    },
    {
      "cell_type": "markdown",
      "metadata": {
        "id": "mIEFJtxSJp8n"
      },
      "source": [
        "## Initialize the spaCy model using AraVec vectors\n",
        "\n",
        "- This will create a folder called `/spacy.aravec.model` within your current working directory.\n",
        "- This step could take several minutes to be completed."
      ]
    },
    {
      "cell_type": "code",
      "execution_count": 3,
      "metadata": {
        "id": "iQ4Jg9cUKVbC",
        "colab": {
          "base_uri": "https://localhost:8080/"
        },
        "outputId": "9c63db5a-1051-4200-b4e4-60ccd9b3c714"
      },
      "outputs": [
        {
          "output_type": "stream",
          "name": "stdout",
          "text": [
            "Looking in indexes: https://pypi.org/simple, https://us-python.pkg.dev/colab-wheels/public/simple/\n",
            "Collecting spacy~=2.3.0\n",
            "  Downloading spacy-2.3.8-cp37-cp37m-manylinux_2_17_x86_64.manylinux2014_x86_64.whl (4.8 MB)\n",
            "\u001b[K     |████████████████████████████████| 4.8 MB 5.3 MB/s \n",
            "\u001b[?25hRequirement already satisfied: cymem<2.1.0,>=2.0.2 in /usr/local/lib/python3.7/dist-packages (from spacy~=2.3.0) (2.0.7)\n",
            "Requirement already satisfied: wasabi<1.1.0,>=0.4.0 in /usr/local/lib/python3.7/dist-packages (from spacy~=2.3.0) (0.10.1)\n",
            "Collecting srsly<1.1.0,>=1.0.2\n",
            "  Downloading srsly-1.0.6-cp37-cp37m-manylinux_2_17_x86_64.manylinux2014_x86_64.whl (208 kB)\n",
            "\u001b[K     |████████████████████████████████| 208 kB 75.8 MB/s \n",
            "\u001b[?25hRequirement already satisfied: tqdm<5.0.0,>=4.38.0 in /usr/local/lib/python3.7/dist-packages (from spacy~=2.3.0) (4.64.1)\n",
            "Requirement already satisfied: requests<3.0.0,>=2.13.0 in /usr/local/lib/python3.7/dist-packages (from spacy~=2.3.0) (2.23.0)\n",
            "Requirement already satisfied: murmurhash<1.1.0,>=0.28.0 in /usr/local/lib/python3.7/dist-packages (from spacy~=2.3.0) (1.0.9)\n",
            "Requirement already satisfied: blis<0.8.0,>=0.4.0 in /usr/local/lib/python3.7/dist-packages (from spacy~=2.3.0) (0.7.9)\n",
            "Requirement already satisfied: setuptools in /usr/local/lib/python3.7/dist-packages (from spacy~=2.3.0) (57.4.0)\n",
            "Collecting catalogue<1.1.0,>=0.0.7\n",
            "  Downloading catalogue-1.0.2-py2.py3-none-any.whl (16 kB)\n",
            "Collecting thinc<7.5.0,>=7.4.1\n",
            "  Downloading thinc-7.4.6-cp37-cp37m-manylinux_2_17_x86_64.manylinux2014_x86_64.whl (1.0 MB)\n",
            "\u001b[K     |████████████████████████████████| 1.0 MB 67.2 MB/s \n",
            "\u001b[?25hCollecting plac<1.2.0,>=0.9.6\n",
            "  Downloading plac-1.1.3-py2.py3-none-any.whl (20 kB)\n",
            "Requirement already satisfied: preshed<3.1.0,>=3.0.2 in /usr/local/lib/python3.7/dist-packages (from spacy~=2.3.0) (3.0.8)\n",
            "Requirement already satisfied: numpy>=1.15.0 in /usr/local/lib/python3.7/dist-packages (from spacy~=2.3.0) (1.21.6)\n",
            "Requirement already satisfied: zipp>=0.5 in /usr/local/lib/python3.7/dist-packages (from catalogue<1.1.0,>=0.0.7->spacy~=2.3.0) (3.9.0)\n",
            "Requirement already satisfied: typing-extensions>=3.6.4 in /usr/local/lib/python3.7/dist-packages (from catalogue<1.1.0,>=0.0.7->spacy~=2.3.0) (4.1.1)\n",
            "Requirement already satisfied: chardet<4,>=3.0.2 in /usr/local/lib/python3.7/dist-packages (from requests<3.0.0,>=2.13.0->spacy~=2.3.0) (3.0.4)\n",
            "Requirement already satisfied: certifi>=2017.4.17 in /usr/local/lib/python3.7/dist-packages (from requests<3.0.0,>=2.13.0->spacy~=2.3.0) (2022.9.24)\n",
            "Requirement already satisfied: idna<3,>=2.5 in /usr/local/lib/python3.7/dist-packages (from requests<3.0.0,>=2.13.0->spacy~=2.3.0) (2.10)\n",
            "Requirement already satisfied: urllib3!=1.25.0,!=1.25.1,<1.26,>=1.21.1 in /usr/local/lib/python3.7/dist-packages (from requests<3.0.0,>=2.13.0->spacy~=2.3.0) (1.24.3)\n",
            "Installing collected packages: srsly, plac, catalogue, thinc, spacy\n",
            "  Attempting uninstall: srsly\n",
            "    Found existing installation: srsly 2.4.5\n",
            "    Uninstalling srsly-2.4.5:\n",
            "      Successfully uninstalled srsly-2.4.5\n",
            "  Attempting uninstall: catalogue\n",
            "    Found existing installation: catalogue 2.0.8\n",
            "    Uninstalling catalogue-2.0.8:\n",
            "      Successfully uninstalled catalogue-2.0.8\n",
            "  Attempting uninstall: thinc\n",
            "    Found existing installation: thinc 8.1.5\n",
            "    Uninstalling thinc-8.1.5:\n",
            "      Successfully uninstalled thinc-8.1.5\n",
            "  Attempting uninstall: spacy\n",
            "    Found existing installation: spacy 3.4.2\n",
            "    Uninstalling spacy-3.4.2:\n",
            "      Successfully uninstalled spacy-3.4.2\n",
            "\u001b[31mERROR: pip's dependency resolver does not currently take into account all the packages that are installed. This behaviour is the source of the following dependency conflicts.\n",
            "en-core-web-sm 3.4.1 requires spacy<3.5.0,>=3.4.0, but you have spacy 2.3.8 which is incompatible.\n",
            "confection 0.0.3 requires srsly<3.0.0,>=2.4.0, but you have srsly 1.0.6 which is incompatible.\u001b[0m\n",
            "Successfully installed catalogue-1.0.2 plac-1.1.3 spacy-2.3.8 srsly-1.0.6 thinc-7.4.6\n"
          ]
        }
      ],
      "source": [
        "pip install \"spacy~=2.3.0\""
      ]
    },
    {
      "cell_type": "code",
      "execution_count": 4,
      "metadata": {
        "ExecuteTime": {
          "end_time": "2020-04-28T13:06:08.570498Z",
          "start_time": "2020-04-28T13:05:49.692840Z"
        },
        "id": "klLd5QoeJp8o",
        "colab": {
          "base_uri": "https://localhost:8080/"
        },
        "outputId": "2bfa432a-e381-4413-9edd-e902b421c79a"
      },
      "outputs": [
        {
          "output_type": "stream",
          "name": "stdout",
          "text": [
            "\u001b[2K\u001b[38;5;2m✔ Successfully created model\u001b[0m\n",
            "⠇ Reading vectors from /content/drive/MyDrive/GP/spacyModel/aravec.txt.gztcmalloc: large alloc 1772060672 bytes == 0x3da0000 @  0x7f5819295001 0x7f5816be41af 0x7f5816c3ac23 0x7f5816c3ba87 0x7f5816cdd823 0x58f62c 0x510bf2 0x5b4ee6 0x58ff2e 0x50c4fc 0x5b4ee6 0x58ff2e 0x50c4fc 0x5b4ee6 0x4bad99 0x50e18c 0x5b575e 0x58ff2e 0x50ca37 0x5b4ee6 0x58ff2e 0x510325 0x5b4ee6 0x6005a3 0x631909 0x58f4ed 0x50ff13 0x5b4ee6 0x58ff2e 0x50c4fc 0x5b4ee6\n",
            "1476715it [02:56, 8369.37it/s] \n",
            "\u001b[2K\u001b[38;5;2m✔ Loaded vectors from\n",
            "/content/drive/MyDrive/GP/spacyModel/aravec.txt.gz\u001b[0m\n",
            "\u001b[38;5;2m✔ Sucessfully compiled vocab\u001b[0m\n",
            "1476903 entries, 1476715 vectors\n"
          ]
        }
      ],
      "source": [
        "!python -m spacy  init-model ar spacy.aravec.model --vectors-loc /content/drive/MyDrive/GP/spacyModel/aravec.txt.gz"
      ]
    },
    {
      "cell_type": "markdown",
      "metadata": {
        "id": "ReikgJ93Jp8r"
      },
      "source": [
        "## Run Your AraVec Spacy Model\n"
      ]
    },
    {
      "cell_type": "code",
      "execution_count": 5,
      "metadata": {
        "id": "uYgKWJgiR3XH",
        "colab": {
          "base_uri": "https://localhost:8080/"
        },
        "outputId": "f69303ed-f42f-4fde-ea43-7e3eb94dfd8e"
      },
      "outputs": [
        {
          "output_type": "stream",
          "name": "stdout",
          "text": [
            "Looking in indexes: https://pypi.org/simple, https://us-python.pkg.dev/colab-wheels/public/simple/\n",
            "Requirement already satisfied: nltk in /usr/local/lib/python3.7/dist-packages (3.7)\n",
            "Requirement already satisfied: joblib in /usr/local/lib/python3.7/dist-packages (from nltk) (1.2.0)\n",
            "Requirement already satisfied: regex>=2021.8.3 in /usr/local/lib/python3.7/dist-packages (from nltk) (2022.6.2)\n",
            "Requirement already satisfied: tqdm in /usr/local/lib/python3.7/dist-packages (from nltk) (4.64.1)\n",
            "Requirement already satisfied: click in /usr/local/lib/python3.7/dist-packages (from nltk) (7.1.2)\n",
            "Looking in indexes: https://pypi.org/simple, https://us-python.pkg.dev/colab-wheels/public/simple/\n",
            "Collecting spacy==2.3.5\n",
            "  Downloading spacy-2.3.5-cp37-cp37m-manylinux2014_x86_64.whl (10.4 MB)\n",
            "\u001b[K     |████████████████████████████████| 10.4 MB 4.1 MB/s \n",
            "\u001b[?25hRequirement already satisfied: thinc<7.5.0,>=7.4.1 in /usr/local/lib/python3.7/dist-packages (from spacy==2.3.5) (7.4.6)\n",
            "Requirement already satisfied: catalogue<1.1.0,>=0.0.7 in /usr/local/lib/python3.7/dist-packages (from spacy==2.3.5) (1.0.2)\n",
            "Requirement already satisfied: srsly<1.1.0,>=1.0.2 in /usr/local/lib/python3.7/dist-packages (from spacy==2.3.5) (1.0.6)\n",
            "Requirement already satisfied: blis<0.8.0,>=0.4.0 in /usr/local/lib/python3.7/dist-packages (from spacy==2.3.5) (0.7.9)\n",
            "Requirement already satisfied: cymem<2.1.0,>=2.0.2 in /usr/local/lib/python3.7/dist-packages (from spacy==2.3.5) (2.0.7)\n",
            "Requirement already satisfied: murmurhash<1.1.0,>=0.28.0 in /usr/local/lib/python3.7/dist-packages (from spacy==2.3.5) (1.0.9)\n",
            "Requirement already satisfied: wasabi<1.1.0,>=0.4.0 in /usr/local/lib/python3.7/dist-packages (from spacy==2.3.5) (0.10.1)\n",
            "Requirement already satisfied: requests<3.0.0,>=2.13.0 in /usr/local/lib/python3.7/dist-packages (from spacy==2.3.5) (2.23.0)\n",
            "Requirement already satisfied: tqdm<5.0.0,>=4.38.0 in /usr/local/lib/python3.7/dist-packages (from spacy==2.3.5) (4.64.1)\n",
            "Requirement already satisfied: preshed<3.1.0,>=3.0.2 in /usr/local/lib/python3.7/dist-packages (from spacy==2.3.5) (3.0.8)\n",
            "Requirement already satisfied: plac<1.2.0,>=0.9.6 in /usr/local/lib/python3.7/dist-packages (from spacy==2.3.5) (1.1.3)\n",
            "Requirement already satisfied: numpy>=1.15.0 in /usr/local/lib/python3.7/dist-packages (from spacy==2.3.5) (1.21.6)\n",
            "Requirement already satisfied: setuptools in /usr/local/lib/python3.7/dist-packages (from spacy==2.3.5) (57.4.0)\n",
            "Requirement already satisfied: zipp>=0.5 in /usr/local/lib/python3.7/dist-packages (from catalogue<1.1.0,>=0.0.7->spacy==2.3.5) (3.9.0)\n",
            "Requirement already satisfied: typing-extensions>=3.6.4 in /usr/local/lib/python3.7/dist-packages (from catalogue<1.1.0,>=0.0.7->spacy==2.3.5) (4.1.1)\n",
            "Requirement already satisfied: urllib3!=1.25.0,!=1.25.1,<1.26,>=1.21.1 in /usr/local/lib/python3.7/dist-packages (from requests<3.0.0,>=2.13.0->spacy==2.3.5) (1.24.3)\n",
            "Requirement already satisfied: certifi>=2017.4.17 in /usr/local/lib/python3.7/dist-packages (from requests<3.0.0,>=2.13.0->spacy==2.3.5) (2022.9.24)\n",
            "Requirement already satisfied: idna<3,>=2.5 in /usr/local/lib/python3.7/dist-packages (from requests<3.0.0,>=2.13.0->spacy==2.3.5) (2.10)\n",
            "Requirement already satisfied: chardet<4,>=3.0.2 in /usr/local/lib/python3.7/dist-packages (from requests<3.0.0,>=2.13.0->spacy==2.3.5) (3.0.4)\n",
            "Installing collected packages: spacy\n",
            "  Attempting uninstall: spacy\n",
            "    Found existing installation: spacy 2.3.8\n",
            "    Uninstalling spacy-2.3.8:\n",
            "      Successfully uninstalled spacy-2.3.8\n",
            "\u001b[31mERROR: pip's dependency resolver does not currently take into account all the packages that are installed. This behaviour is the source of the following dependency conflicts.\n",
            "en-core-web-sm 3.4.1 requires spacy<3.5.0,>=3.4.0, but you have spacy 2.3.5 which is incompatible.\u001b[0m\n",
            "Successfully installed spacy-2.3.5\n",
            "Looking in indexes: https://pypi.org/simple, https://us-python.pkg.dev/colab-wheels/public/simple/\n",
            "Collecting https://github.com/explosion/spacy-models/releases/download/en_core_web_sm-2.3.1/en_core_web_sm-2.3.1.tar.gz\n",
            "  Downloading https://github.com/explosion/spacy-models/releases/download/en_core_web_sm-2.3.1/en_core_web_sm-2.3.1.tar.gz (12.0 MB)\n",
            "\u001b[K     |████████████████████████████████| 12.0 MB 5.3 MB/s \n",
            "\u001b[?25hRequirement already satisfied: spacy<2.4.0,>=2.3.0 in /usr/local/lib/python3.7/dist-packages (from en-core-web-sm==2.3.1) (2.3.5)\n",
            "Requirement already satisfied: preshed<3.1.0,>=3.0.2 in /usr/local/lib/python3.7/dist-packages (from spacy<2.4.0,>=2.3.0->en-core-web-sm==2.3.1) (3.0.8)\n",
            "Requirement already satisfied: srsly<1.1.0,>=1.0.2 in /usr/local/lib/python3.7/dist-packages (from spacy<2.4.0,>=2.3.0->en-core-web-sm==2.3.1) (1.0.6)\n",
            "Requirement already satisfied: cymem<2.1.0,>=2.0.2 in /usr/local/lib/python3.7/dist-packages (from spacy<2.4.0,>=2.3.0->en-core-web-sm==2.3.1) (2.0.7)\n",
            "Requirement already satisfied: murmurhash<1.1.0,>=0.28.0 in /usr/local/lib/python3.7/dist-packages (from spacy<2.4.0,>=2.3.0->en-core-web-sm==2.3.1) (1.0.9)\n",
            "Requirement already satisfied: blis<0.8.0,>=0.4.0 in /usr/local/lib/python3.7/dist-packages (from spacy<2.4.0,>=2.3.0->en-core-web-sm==2.3.1) (0.7.9)\n",
            "Requirement already satisfied: thinc<7.5.0,>=7.4.1 in /usr/local/lib/python3.7/dist-packages (from spacy<2.4.0,>=2.3.0->en-core-web-sm==2.3.1) (7.4.6)\n",
            "Requirement already satisfied: wasabi<1.1.0,>=0.4.0 in /usr/local/lib/python3.7/dist-packages (from spacy<2.4.0,>=2.3.0->en-core-web-sm==2.3.1) (0.10.1)\n",
            "Requirement already satisfied: setuptools in /usr/local/lib/python3.7/dist-packages (from spacy<2.4.0,>=2.3.0->en-core-web-sm==2.3.1) (57.4.0)\n",
            "Requirement already satisfied: numpy>=1.15.0 in /usr/local/lib/python3.7/dist-packages (from spacy<2.4.0,>=2.3.0->en-core-web-sm==2.3.1) (1.21.6)\n",
            "Requirement already satisfied: plac<1.2.0,>=0.9.6 in /usr/local/lib/python3.7/dist-packages (from spacy<2.4.0,>=2.3.0->en-core-web-sm==2.3.1) (1.1.3)\n",
            "Requirement already satisfied: tqdm<5.0.0,>=4.38.0 in /usr/local/lib/python3.7/dist-packages (from spacy<2.4.0,>=2.3.0->en-core-web-sm==2.3.1) (4.64.1)\n",
            "Requirement already satisfied: catalogue<1.1.0,>=0.0.7 in /usr/local/lib/python3.7/dist-packages (from spacy<2.4.0,>=2.3.0->en-core-web-sm==2.3.1) (1.0.2)\n",
            "Requirement already satisfied: requests<3.0.0,>=2.13.0 in /usr/local/lib/python3.7/dist-packages (from spacy<2.4.0,>=2.3.0->en-core-web-sm==2.3.1) (2.23.0)\n",
            "Requirement already satisfied: zipp>=0.5 in /usr/local/lib/python3.7/dist-packages (from catalogue<1.1.0,>=0.0.7->spacy<2.4.0,>=2.3.0->en-core-web-sm==2.3.1) (3.9.0)\n",
            "Requirement already satisfied: typing-extensions>=3.6.4 in /usr/local/lib/python3.7/dist-packages (from catalogue<1.1.0,>=0.0.7->spacy<2.4.0,>=2.3.0->en-core-web-sm==2.3.1) (4.1.1)\n",
            "Requirement already satisfied: urllib3!=1.25.0,!=1.25.1,<1.26,>=1.21.1 in /usr/local/lib/python3.7/dist-packages (from requests<3.0.0,>=2.13.0->spacy<2.4.0,>=2.3.0->en-core-web-sm==2.3.1) (1.24.3)\n",
            "Requirement already satisfied: chardet<4,>=3.0.2 in /usr/local/lib/python3.7/dist-packages (from requests<3.0.0,>=2.13.0->spacy<2.4.0,>=2.3.0->en-core-web-sm==2.3.1) (3.0.4)\n",
            "Requirement already satisfied: idna<3,>=2.5 in /usr/local/lib/python3.7/dist-packages (from requests<3.0.0,>=2.13.0->spacy<2.4.0,>=2.3.0->en-core-web-sm==2.3.1) (2.10)\n",
            "Requirement already satisfied: certifi>=2017.4.17 in /usr/local/lib/python3.7/dist-packages (from requests<3.0.0,>=2.13.0->spacy<2.4.0,>=2.3.0->en-core-web-sm==2.3.1) (2022.9.24)\n",
            "Building wheels for collected packages: en-core-web-sm\n",
            "  Building wheel for en-core-web-sm (setup.py) ... \u001b[?25l\u001b[?25hdone\n",
            "  Created wheel for en-core-web-sm: filename=en_core_web_sm-2.3.1-py3-none-any.whl size=12047105 sha256=20bca4b3f7ef5711096c188b8fb3034ee2028293c56dd144e6454029425f3b37\n",
            "  Stored in directory: /root/.cache/pip/wheels/b7/0d/f0/7ecae8427c515065d75410989e15e5785dd3975fe06e795cd9\n",
            "Successfully built en-core-web-sm\n",
            "Installing collected packages: en-core-web-sm\n",
            "  Attempting uninstall: en-core-web-sm\n",
            "    Found existing installation: en-core-web-sm 3.4.1\n",
            "    Uninstalling en-core-web-sm-3.4.1:\n",
            "      Successfully uninstalled en-core-web-sm-3.4.1\n",
            "Successfully installed en-core-web-sm-2.3.1\n",
            "Looking in indexes: https://pypi.org/simple, https://us-python.pkg.dev/colab-wheels/public/simple/\n",
            "Collecting pyresparser\n",
            "  Downloading pyresparser-1.0.6-py3-none-any.whl (4.2 MB)\n",
            "\u001b[K     |████████████████████████████████| 4.2 MB 5.4 MB/s \n",
            "\u001b[?25hRequirement already satisfied: blis>=0.2.4 in /usr/local/lib/python3.7/dist-packages (from pyresparser) (0.7.9)\n",
            "Collecting pdfminer.six>=20181108\n",
            "  Downloading pdfminer.six-20220524-py3-none-any.whl (5.6 MB)\n",
            "\u001b[K     |████████████████████████████████| 5.6 MB 41.9 MB/s \n",
            "\u001b[?25hRequirement already satisfied: thinc>=7.0.4 in /usr/local/lib/python3.7/dist-packages (from pyresparser) (7.4.6)\n",
            "Requirement already satisfied: preshed>=2.0.1 in /usr/local/lib/python3.7/dist-packages (from pyresparser) (3.0.8)\n",
            "Requirement already satisfied: idna>=2.8 in /usr/local/lib/python3.7/dist-packages (from pyresparser) (2.10)\n",
            "Requirement already satisfied: tqdm>=4.32.2 in /usr/local/lib/python3.7/dist-packages (from pyresparser) (4.64.1)\n",
            "Requirement already satisfied: cymem>=2.0.2 in /usr/local/lib/python3.7/dist-packages (from pyresparser) (2.0.7)\n",
            "Requirement already satisfied: chardet>=3.0.4 in /usr/local/lib/python3.7/dist-packages (from pyresparser) (3.0.4)\n",
            "Requirement already satisfied: numpy>=1.16.4 in /usr/local/lib/python3.7/dist-packages (from pyresparser) (1.21.6)\n",
            "Requirement already satisfied: requests>=2.22.0 in /usr/local/lib/python3.7/dist-packages (from pyresparser) (2.23.0)\n",
            "Requirement already satisfied: attrs>=19.1.0 in /usr/local/lib/python3.7/dist-packages (from pyresparser) (22.1.0)\n",
            "Requirement already satisfied: spacy>=2.1.4 in /usr/local/lib/python3.7/dist-packages (from pyresparser) (2.3.5)\n",
            "Collecting docx2txt>=0.7\n",
            "  Downloading docx2txt-0.8.tar.gz (2.8 kB)\n",
            "Collecting pycryptodome>=3.8.2\n",
            "  Downloading pycryptodome-3.15.0-cp35-abi3-manylinux2010_x86_64.whl (2.3 MB)\n",
            "\u001b[K     |████████████████████████████████| 2.3 MB 44.6 MB/s \n",
            "\u001b[?25hRequirement already satisfied: pytz>=2019.1 in /usr/local/lib/python3.7/dist-packages (from pyresparser) (2022.5)\n",
            "Requirement already satisfied: six>=1.12.0 in /usr/local/lib/python3.7/dist-packages (from pyresparser) (1.15.0)\n",
            "Requirement already satisfied: certifi>=2019.6.16 in /usr/local/lib/python3.7/dist-packages (from pyresparser) (2022.9.24)\n",
            "Requirement already satisfied: python-dateutil>=2.8.0 in /usr/local/lib/python3.7/dist-packages (from pyresparser) (2.8.2)\n",
            "Requirement already satisfied: pyrsistent>=0.15.2 in /usr/local/lib/python3.7/dist-packages (from pyresparser) (0.18.1)\n",
            "Collecting urllib3>=1.25.3\n",
            "  Downloading urllib3-1.26.12-py2.py3-none-any.whl (140 kB)\n",
            "\u001b[K     |████████████████████████████████| 140 kB 73.7 MB/s \n",
            "\u001b[?25hRequirement already satisfied: pandas>=0.24.2 in /usr/local/lib/python3.7/dist-packages (from pyresparser) (1.3.5)\n",
            "Requirement already satisfied: sortedcontainers>=2.1.0 in /usr/local/lib/python3.7/dist-packages (from pyresparser) (2.4.0)\n",
            "Requirement already satisfied: wasabi>=0.2.2 in /usr/local/lib/python3.7/dist-packages (from pyresparser) (0.10.1)\n",
            "Requirement already satisfied: srsly>=0.0.7 in /usr/local/lib/python3.7/dist-packages (from pyresparser) (1.0.6)\n",
            "Requirement already satisfied: jsonschema>=3.0.1 in /usr/local/lib/python3.7/dist-packages (from pyresparser) (4.3.3)\n",
            "Requirement already satisfied: nltk>=3.4.3 in /usr/local/lib/python3.7/dist-packages (from pyresparser) (3.7)\n",
            "Requirement already satisfied: importlib-metadata in /usr/local/lib/python3.7/dist-packages (from jsonschema>=3.0.1->pyresparser) (4.13.0)\n",
            "Requirement already satisfied: typing-extensions in /usr/local/lib/python3.7/dist-packages (from jsonschema>=3.0.1->pyresparser) (4.1.1)\n",
            "Requirement already satisfied: importlib-resources>=1.4.0 in /usr/local/lib/python3.7/dist-packages (from jsonschema>=3.0.1->pyresparser) (5.10.0)\n",
            "Requirement already satisfied: zipp>=3.1.0 in /usr/local/lib/python3.7/dist-packages (from importlib-resources>=1.4.0->jsonschema>=3.0.1->pyresparser) (3.9.0)\n",
            "Requirement already satisfied: click in /usr/local/lib/python3.7/dist-packages (from nltk>=3.4.3->pyresparser) (7.1.2)\n",
            "Requirement already satisfied: regex>=2021.8.3 in /usr/local/lib/python3.7/dist-packages (from nltk>=3.4.3->pyresparser) (2022.6.2)\n",
            "Requirement already satisfied: joblib in /usr/local/lib/python3.7/dist-packages (from nltk>=3.4.3->pyresparser) (1.2.0)\n",
            "Requirement already satisfied: charset-normalizer>=2.0.0 in /usr/local/lib/python3.7/dist-packages (from pdfminer.six>=20181108->pyresparser) (2.1.1)\n",
            "Collecting cryptography>=36.0.0\n",
            "  Downloading cryptography-38.0.1-cp36-abi3-manylinux_2_24_x86_64.whl (4.0 MB)\n",
            "\u001b[K     |████████████████████████████████| 4.0 MB 41.1 MB/s \n",
            "\u001b[?25hRequirement already satisfied: cffi>=1.12 in /usr/local/lib/python3.7/dist-packages (from cryptography>=36.0.0->pdfminer.six>=20181108->pyresparser) (1.15.1)\n",
            "Requirement already satisfied: pycparser in /usr/local/lib/python3.7/dist-packages (from cffi>=1.12->cryptography>=36.0.0->pdfminer.six>=20181108->pyresparser) (2.21)\n",
            "Requirement already satisfied: murmurhash<1.1.0,>=0.28.0 in /usr/local/lib/python3.7/dist-packages (from preshed>=2.0.1->pyresparser) (1.0.9)\n",
            "Collecting urllib3>=1.25.3\n",
            "  Downloading urllib3-1.25.11-py2.py3-none-any.whl (127 kB)\n",
            "\u001b[K     |████████████████████████████████| 127 kB 68.5 MB/s \n",
            "\u001b[?25hRequirement already satisfied: setuptools in /usr/local/lib/python3.7/dist-packages (from spacy>=2.1.4->pyresparser) (57.4.0)\n",
            "Requirement already satisfied: plac<1.2.0,>=0.9.6 in /usr/local/lib/python3.7/dist-packages (from spacy>=2.1.4->pyresparser) (1.1.3)\n",
            "Requirement already satisfied: catalogue<1.1.0,>=0.0.7 in /usr/local/lib/python3.7/dist-packages (from spacy>=2.1.4->pyresparser) (1.0.2)\n",
            "Building wheels for collected packages: docx2txt\n",
            "  Building wheel for docx2txt (setup.py) ... \u001b[?25l\u001b[?25hdone\n",
            "  Created wheel for docx2txt: filename=docx2txt-0.8-py3-none-any.whl size=3980 sha256=fa42bddeeeedc9ac347049a6720405ea5531d5960294ca8c579fe58a74298722\n",
            "  Stored in directory: /root/.cache/pip/wheels/b7/20/b2/473e3aea9a0c0d3e7b2f7bd81d06d0794fec12752733d1f3a8\n",
            "Successfully built docx2txt\n",
            "Installing collected packages: urllib3, cryptography, pycryptodome, pdfminer.six, docx2txt, pyresparser\n",
            "  Attempting uninstall: urllib3\n",
            "    Found existing installation: urllib3 1.24.3\n",
            "    Uninstalling urllib3-1.24.3:\n",
            "      Successfully uninstalled urllib3-1.24.3\n",
            "Successfully installed cryptography-38.0.1 docx2txt-0.8 pdfminer.six-20220524 pycryptodome-3.15.0 pyresparser-1.0.6 urllib3-1.25.11\n"
          ]
        }
      ],
      "source": [
        "!pip install nltk\n",
        "\n",
        "!pip install spacy==2.3.5\n",
        "\n",
        "!pip install https://github.com/explosion/spacy-models/releases/download/en_core_web_sm-2.3.1/en_core_web_sm-2.3.1.tar.gz\n",
        "\n",
        "!pip install pyresparser"
      ]
    },
    {
      "cell_type": "code",
      "execution_count": 9,
      "metadata": {
        "ExecuteTime": {
          "end_time": "2020-04-28T13:06:25.120513Z",
          "start_time": "2020-04-28T13:06:24.032773Z"
        },
        "id": "ab-Hnj4kJp8r"
      },
      "outputs": [],
      "source": [
        "# load AraVec Spacy model\n",
        "nlp = spacy.load(\"./spacy.aravec.model/\")"
      ]
    },
    {
      "cell_type": "code",
      "execution_count": 10,
      "metadata": {
        "id": "1Efk9S9onT4V"
      },
      "outputs": [],
      "source": [
        "# Define the preprocessing Class\n",
        "class Preprocessor:\n",
        "    def __init__(self, tokenizer, **cfg):\n",
        "        self.tokenizer = tokenizer\n",
        "\n",
        "    def __call__(self, text):\n",
        "        preprocessed = clean_str(text)\n",
        "        return self.tokenizer(preprocessed)"
      ]
    },
    {
      "cell_type": "code",
      "execution_count": 11,
      "metadata": {
        "id": "9CIWoqhInihz"
      },
      "outputs": [],
      "source": [
        "# Apply the `Preprocessor` Class\n",
        "nlp.tokenizer = Preprocessor(nlp.tokenizer)"
      ]
    },
    {
      "cell_type": "markdown",
      "metadata": {
        "id": "zYzrWSHLn0sM"
      },
      "source": [
        "## Test the Model"
      ]
    },
    {
      "cell_type": "code",
      "execution_count": 12,
      "metadata": {
        "id": "X8QZEGiunuUT",
        "colab": {
          "base_uri": "https://localhost:8080/"
        },
        "outputId": "3f32aa41-7e05-48a8-c2e9-dc0c51157b7d"
      },
      "outputs": [
        {
          "output_type": "execute_result",
          "data": {
            "text/plain": [
              "array([ 3.49176705e-01, -2.19255924e-01,  1.60989439e+00,  1.92484510e+00,\n",
              "        4.39680129e-01, -2.45391202e+00,  1.20038486e+00, -2.47432327e+00,\n",
              "       -8.00085664e-01,  2.53640485e+00, -9.78808999e-01,  2.07138205e+00,\n",
              "       -5.92019856e-01, -7.51316130e-01, -1.08123958e+00, -1.53880513e+00,\n",
              "       -6.17376208e-01,  1.91213000e+00,  1.70518744e+00,  6.37496650e-01,\n",
              "       -7.80412674e-01,  8.66371036e-01, -5.03959537e-01,  1.42896271e+00,\n",
              "        1.19330311e+00,  3.68727773e-01, -2.58546805e+00, -1.29053664e+00,\n",
              "       -2.18352407e-01, -5.58572173e-01,  1.32803656e-02, -1.60445797e+00,\n",
              "       -4.90821213e-01,  7.11713791e-01, -2.19430876e+00,  3.67237814e-02,\n",
              "       -1.41925108e+00, -7.25821257e-02, -1.53280437e+00,  2.90860265e-01,\n",
              "       -1.47955030e-01,  1.17669499e+00, -9.26764667e-01, -5.93682408e-01,\n",
              "        4.93071109e-01, -5.60185492e-01, -9.48402047e-01, -2.23287511e+00,\n",
              "        6.90190434e-01, -3.04384202e-01,  1.75442171e+00,  4.30127472e-01,\n",
              "       -3.45586568e-01,  6.44781351e-01,  8.09254646e-01, -7.20537007e-01,\n",
              "       -9.63644385e-01,  8.04511189e-01, -1.14854491e+00, -3.09098959e+00,\n",
              "        1.07260919e+00, -7.26335764e-01,  2.52742097e-02,  2.22927079e-01,\n",
              "       -5.73450089e-01, -6.65783823e-01,  3.43189269e-01,  5.20323701e-02,\n",
              "        1.10230595e-01, -2.39236534e-01,  8.67034316e-01, -1.52552795e+00,\n",
              "       -8.14849794e-01,  8.02008390e-01,  4.85947162e-01, -1.10131705e+00,\n",
              "        1.24537313e+00, -1.57362640e+00,  7.78633654e-01, -8.14357638e-01,\n",
              "       -5.87664127e-01,  6.74567819e-01, -8.26600611e-01,  1.02491200e+00,\n",
              "        1.19228840e+00,  1.89933383e+00, -6.47656858e-01,  2.71863461e-01,\n",
              "       -3.54831338e-01,  1.29931819e+00,  1.22600579e+00,  2.25165677e+00,\n",
              "        1.44164276e+00, -2.43492082e-01,  5.48285425e-01, -4.61636148e-02,\n",
              "       -1.16184819e+00, -7.39476442e-01, -4.70170587e-01,  7.48587549e-02,\n",
              "        7.44896114e-01,  2.12997675e+00, -1.97274899e+00,  1.85155880e+00,\n",
              "       -7.57211149e-01, -1.51635885e-01,  9.49204445e-01, -7.74210393e-01,\n",
              "       -9.50513631e-02, -2.20363593e+00,  2.11436105e+00,  4.33480412e-01,\n",
              "        6.89979851e-01, -1.30240309e+00,  1.10043168e+00, -4.13931370e-01,\n",
              "       -1.97809152e-02,  8.15745443e-02,  7.37246454e-01, -1.68242440e-01,\n",
              "        8.62354487e-02,  3.34261328e-01,  9.15055990e-01, -5.98681152e-01,\n",
              "       -5.74142277e-01, -5.95421135e-01, -6.58008993e-01, -2.36620024e-01,\n",
              "       -2.91541958e+00,  8.00285935e-01, -1.58204854e+00, -1.70362079e+00,\n",
              "        5.49369514e-01, -1.00610113e+00, -1.74042022e+00, -1.10317218e+00,\n",
              "       -2.57325880e-02, -1.33295667e+00, -1.45735586e+00,  1.35298848e+00,\n",
              "        4.59270567e-01,  1.32174730e+00, -3.91255319e-01,  7.05023706e-01,\n",
              "       -1.06215513e+00,  3.07397604e-01,  1.03549016e+00,  1.28438592e+00,\n",
              "        5.56283109e-02,  3.66518408e-01,  1.89446080e+00,  1.14299643e+00,\n",
              "        7.70926833e-01,  6.93473756e-01, -1.60875201e+00,  3.89643103e-01,\n",
              "       -1.04760218e+00,  2.56859183e+00, -5.22892594e-01,  1.71606386e+00,\n",
              "        5.74504808e-02, -3.27601045e-01,  1.85785592e+00,  5.79132438e-01,\n",
              "        1.26490086e-01,  7.96517909e-01, -2.09921741e+00, -9.46660995e-01,\n",
              "       -1.22349942e+00,  2.48877931e+00, -1.95513713e+00,  3.36003810e-01,\n",
              "       -1.07166612e+00,  8.84715855e-01,  1.22609556e+00,  3.86944920e-01,\n",
              "        1.07714486e+00, -5.22623062e-01,  1.60645425e+00, -1.13866985e-01,\n",
              "       -6.73662245e-01,  7.13179588e-01, -8.82581770e-01,  3.45182151e-01,\n",
              "       -5.49700737e-01,  9.32752848e-01,  3.45012784e-01,  2.12502146e+00,\n",
              "       -8.40486944e-01, -8.99399996e-01,  1.40302992e+00, -3.72354656e-01,\n",
              "        1.27496004e+00, -1.47703266e+00,  8.26420009e-01,  2.97392756e-01,\n",
              "        7.30467290e-02, -9.54011261e-01, -5.14353335e-01,  6.33152485e-01,\n",
              "        2.12140226e+00, -1.69176376e+00, -7.86024332e-01,  9.85728025e-01,\n",
              "       -1.11695647e-01,  2.77227312e-01,  1.53039360e+00, -1.69021332e+00,\n",
              "        3.61002684e-01, -2.21424270e+00, -2.42019325e-01, -1.30253541e+00,\n",
              "       -2.74580508e-01,  8.55027139e-01,  7.10843146e-01, -1.61821127e+00,\n",
              "        9.91411090e-01, -9.56767201e-02, -8.68674099e-01,  4.90061849e-01,\n",
              "       -1.35436714e+00,  1.32473254e+00,  1.29639223e-01,  2.94880092e-01,\n",
              "       -1.05825567e+00, -6.94373965e-01, -8.42047930e-01, -2.41575301e-01,\n",
              "       -2.48973846e-01, -1.48338884e-01, -1.36122063e-01,  7.98949838e-01,\n",
              "       -6.65133893e-01, -2.60908991e-01, -1.39959669e-02,  1.55862999e+00,\n",
              "       -9.97160673e-01, -1.81557822e+00, -2.69512081e+00, -1.40389845e-01,\n",
              "        1.41539705e+00, -3.29840064e-01, -5.91477215e-01,  3.09954453e+00,\n",
              "       -8.90190825e-02,  5.50496280e-01,  6.23812556e-01,  1.81955409e+00,\n",
              "        1.08892953e+00, -3.73404801e-01,  3.48222107e-02,  7.05583751e-01,\n",
              "       -5.71153879e-01,  3.55264023e-02, -4.32372898e-01, -5.70597708e-01,\n",
              "       -1.31105483e+00, -1.00573134e+00,  1.19220138e+00, -2.77219892e+00,\n",
              "       -4.65549193e-02, -8.82598877e-01, -4.70251739e-01, -2.37684488e+00,\n",
              "       -2.54665637e+00, -1.43940032e+00,  2.60474563e-01,  1.16075468e+00,\n",
              "       -6.18434548e-01,  4.59955961e-01,  6.09722584e-02, -1.42651832e+00,\n",
              "        8.12825918e-01,  4.02133524e-01, -7.67148376e-01,  1.15994954e+00,\n",
              "       -1.89540434e+00,  2.57388264e-01, -1.12283923e-01, -4.55362350e-01,\n",
              "        6.09172881e-01, -3.50954950e-01,  1.40369570e+00,  3.29188630e-02,\n",
              "        9.32905674e-01,  3.73559892e-01, -5.56738794e-01,  3.86263758e-01,\n",
              "       -4.89016682e-01,  4.06693935e-01,  1.04858088e+00,  3.09471577e-01,\n",
              "        6.57487035e-01,  8.67733181e-01, -1.42681948e-03,  1.41572559e+00,\n",
              "        4.41530198e-01, -7.06228614e-01,  6.71479225e-01,  1.38989663e+00],\n",
              "      dtype=float32)"
            ]
          },
          "metadata": {},
          "execution_count": 12
        }
      ],
      "source": [
        "# Test your model\n",
        "nlp(\"سياسات\").vector"
      ]
    },
    {
      "cell_type": "markdown",
      "source": [
        "#### Show Example of Word Embedding"
      ],
      "metadata": {
        "id": "JPVo8v_R295I"
      }
    },
    {
      "cell_type": "code",
      "execution_count": 7,
      "metadata": {
        "id": "q25t-eoAn0Kj",
        "colab": {
          "base_uri": "https://localhost:8080/"
        },
        "outputId": "d95baa54-d299-4aef-b621-7e8393c61953"
      },
      "outputs": [
        {
          "output_type": "stream",
          "name": "stdout",
          "text": [
            "egypt Vs. tunisia =  0.743507219635661\n",
            "egypt Vs. apple =  0.07485823601513765\n"
          ]
        }
      ],
      "source": [
        "\n",
        "egypt = nlp(\"مصر\")\n",
        "tunisia = nlp(\"تونس\")\n",
        "apple = nlp(\"تفاح\")\n",
        "\n",
        "print(\"egypt Vs. tunisia = \", egypt.similarity(tunisia))\n",
        "print(\"egypt Vs. apple = \", egypt.similarity(apple))"
      ]
    },
    {
      "cell_type": "markdown",
      "source": [
        "# Evaluation Part\n",
        " Using created questions from Bank policies"
      ],
      "metadata": {
        "id": "6ahl1ARzQ6kQ"
      }
    },
    {
      "cell_type": "code",
      "execution_count": 13,
      "metadata": {
        "id": "LmUNhBAZShAt",
        "colab": {
          "base_uri": "https://localhost:8080/",
          "height": 1000
        },
        "outputId": "cf170de6-656f-4edf-ea75-e4faf98d1908"
      },
      "outputs": [
        {
          "output_type": "execute_result",
          "data": {
            "text/plain": [
              "                                            questions  \\\n",
              "0                        ما هو هدف السياسة النقدية ؟    \n",
              "1   ماذا يفعل البنك المركزى المصرى حتى يتحول إلى ن...   \n",
              "2        كيف تقرر لجنة السياسة النقدية أسعار العائد ؟   \n",
              "3                        ما هى لجنة السياسة النقدية ؟   \n",
              "4   ما هو دور البنك المركزي السعودي في تنظيم علاقة...   \n",
              "5   ما هي آلية استقبال شكاوى العملاء في البنك المر...   \n",
              "6   ما هي قنوات استقبال الشكاوى في البنك المركزي ا...   \n",
              "7     هل يحق للبنك أخذ رسوم إصدار بطاقات الصرف الآلي؟   \n",
              "8   هل يحق للبنك المطالبة بسداد مستحقات البطاقات ا...   \n",
              "9   هل يحق للبنك خصم مستحقات البطاقات الائتمانية م...   \n",
              "10  هل يحق للبنك رفض إصدار ومنح العميل بطاقة ائتما...   \n",
              "11  هل يحق للبنك عند منح العميل بطاقة ائتمانية إدر...   \n",
              "12  هل يحق للتجار الذين لديهم نقاط بيع إضافة مبلغ ...   \n",
              "13  ما مدى مسئولية البنك تجاه العمليات المشبوهة أو...   \n",
              "14                ما هي فوائد استخدام بطاقة الائتمان؟   \n",
              "15  ما هي أفضل النصائح للحد من عمليات الاحتيال وإس...   \n",
              "16  ما هي أفضل النصائح لمساعدة الشخص في إدارة أمور...   \n",
              "17  هل هناك مدة محددة ومعينة لإصدار إخلاء الطرف من...   \n",
              "18  ما هو الإجراء المتخذ من البنك المركزي السعودي ...   \n",
              "19  هل تقوم بعض البنوك بطلب إيداع مبلغ يعادل حد ال...   \n",
              "20                  هل لإخلاء الطرف مدة صلاحية معينة؟   \n",
              "21                من هو المعرف الشخصي للمرأة المحجبة؟   \n",
              "22  هل ترفض بعض البنوك قبول صورة الأوراق الثبوتية ...   \n",
              "23  ما الفرق بين رقم الحساب البنكي و رقم الآيبان (...   \n",
              "24  هل يحق للبنوك تحصيل رسوم إدارية على الحوالات ا...   \n",
              "25  هل يحق للبنوك تحصيل رسوم إدارية على القروض الش...   \n",
              "26  هل يحق للبنوك رفض منح قروض شخصية تزيد فترة الس...   \n",
              "27  هل يحق للبنوك رفض استقطاع أكثر من ثلث راتب الم...   \n",
              "28  هل يحق للبنوك حجز مبالغ مكافأة نهاية الخدمة لص...   \n",
              "29  هل يحق للبنوك في حالة السداد المبكر للقروض الش...   \n",
              "30            هل يحق للبنك رفض منح العميل قرض شخصي؟     \n",
              "31  هل يحق للبنك عند منح العميل قرض شخصي تسجيل تفا...   \n",
              "32  هل يحق للعميل الذي لديه قرض شخصي من البنك طلب ...   \n",
              "33  هل يحق للبنك خصم القسط الشهري قبل الموعد المتف...   \n",
              "34                                   ما هي نظم الدفع؟   \n",
              "35        ما أهداف البنك المركزي المتعلقة بنظم الدفع؟   \n",
              "36  ما  هو دور البنك المركزي فيما يتعلق بنظام المد...   \n",
              "37  ما هي أهم مزايا الخدمات المصرفية عبر الانترنت؟...   \n",
              "38  هل يدفع رسوما مقابل  الخدمات المصرفية عبر الان...   \n",
              "39  هل يدفع رسوما عند التسجيل للحصول على  الخدمات ...   \n",
              "40  هل خدمات البنك التجاري المصرفية عبر الانترنت آ...   \n",
              "41    ما هي أهم مزايا الخدمات المصرفية عبر الجوال؟      \n",
              "42  هل أحتاج إلى انترنت للحصول على الخدمات المصرفي...   \n",
              "43        ما هي عمليات دعم أو قروض سياسات التنمية؟      \n",
              "44  ما هي شروط القرض الثاني لسياسات التنمية وكيف ي...   \n",
              "45  ما هي التغيرات في السياسة النقدية وسعر الصرف؟ ...   \n",
              "46  كيف يتعامل صندوق النقد الدولي مع مشاكل الفساد؟...   \n",
              "47  كيف يمكن تبادل وجهات النظر حول مشاركة صندوق ال...   \n",
              "48                    ماذا يعنى مفهوم الشمول المالى؟    \n",
              "\n",
              "                                              answers  \\\n",
              "0   يعهد قانون البنك المركزى والجهاز المصرفى والنق...   \n",
              "1   يطمح البنك المركزى المصرى فى تطبيق إستهداف الت...   \n",
              "2   تعرض على لجنة السياسة النقدية التقارير والدراس...   \n",
              "3   تتكون لجنة السياسة النقدية التى تم تشكيلها بقر...   \n",
              "4   يعتبر البنك المركزي السعودي الجهة الإشرافية وا...   \n",
              "5   في حال عدم قناعة الشاكي بنتائج معالجة شكواه لد...   \n",
              "6    إدارة حماية العملاء بالمركز الرئيسي في البنك ...   \n",
              "7   اشتملت التعرفة البنكية الصادرة من البنك المركز...   \n",
              "8   يختلف ذلك حسب نوع البطاقة، فهناك بطاقات الخصم ...   \n",
              "9   يخضع هذا الاجراء إلى الاتفاقية المبرمة بين الب...   \n",
              "10  الموافقة على إصدار بطاقة ائتمانية من عدمه تتم ...   \n",
              "11  تتضمن الاتفاقية المبرمة بين البنك والعميل عدة ...   \n",
              "12  لا يحق لهم ذلك، وعلى العميل إبلاغ البنك المصدر...   \n",
              "13  في حال اعتراض العميل على عمليات باستخدام البطا...   \n",
              "14  من أسباب انتشار البطاقات والتعامل فيها على مست...   \n",
              "15      عدم تسليم بطاقة الائتمان لأي شخص غير مسئول...   \n",
              "16  تختلف من شخص إلى آخر حسب دخله المالي ونمط حيات...   \n",
              "17  ينبغي على البنوك إصدار خطاب اخلاء الطرف خلال س...   \n",
              "18  البنك الذي يرفض إصدار خطاب إخلاء طرف خلال الفت...   \n",
              "19  لا تقوم البنوك بطلب إيداع مبلغ يعادل الحد الائ...   \n",
              "20  صلاحية إخلاء الطرف شهر واحد تقريباً ويختلف ذلك...   \n",
              "21  هو شخص معروف لدى طالبة فتح الحساب المحجبة ومن ...   \n",
              "22  قواعد فتح الحسابات البنكية والقواعد العامة لتش...   \n",
              "23  رقم الحساب هو الرقم التعريفي للعميل داخل بنكه،...   \n",
              "24  التعرفة البنكية الصادرة من البنك المركزي السعو...   \n",
              "25  للبنك تحصيل نسبة من مبلغ التمويل كرسوم إدارية ...   \n",
              "26  التعليمات الصادرة من البنك المركزي السعودي وال...   \n",
              "27  التعليمات الصادرة عن البنك المركزي السعودي وال...   \n",
              "28  العقود المبرمة بين البنوك وعملاءها المتعلقة بم...   \n",
              "29  نعم وذلك وفقاً لما تضمنته العقود المبرمة بين ا...   \n",
              "30  نعم. في حال اتضح للبنك عدم قدرة العميل المالية...   \n",
              "31  نعم. تتضمن الاتفاقية المبرمة بين البنك والعميل...   \n",
              "32  يحق للعميل طلب قرض شخصي جديد أو تكميلي من البن...   \n",
              "33  ينبغي على البنك الالتزام باستقطاع القسط الشهري...   \n",
              "34  يعرف \"نظام الدفع\" على أنه مجموعة الوسائل، والإ...   \n",
              "35  تشجيع وتطوير نظم وخدمات الدفع في مصر.\\nدعم است...   \n",
              "36  وفقا لقانون البنك المركزي والجهاز المصرفي والن...   \n",
              "37  الخدمات المصرفية عبر الانترنت تتيح لكم الحصول ...   \n",
              "38  ليس هناك رسوم تسجيل أو رسوم عضوية مقابل هذه ال...   \n",
              "39   لا توجد حالياً رسوم إشتراك للحصول على الخدمات...   \n",
              "40  إن خدمات البنك التجاري المصرفية عبر الانترنت آ...   \n",
              "41  الخدمات المصرفية عبر الجوال تتيح لكم الحصول عل...   \n",
              "42  نعم، يجب أن يكون الجهاز الخاص بكم متصلاً بالإن...   \n",
              "43  قروض سياسات التنمية هي واحدة من ثلاث أدوات تمو...   \n",
              "44  حزمة التمويل التي تبلغ قيمتها 1.45 مليار دولار...   \n",
              "45  يواصل البنك المركزي المصري انتهاج سياسة نقدية ...   \n",
              "46  كان تعزيز الحوكمة والحد من الفساد هدفًا هامًّا...   \n",
              "47  يلتزم الصندوق بالشفافية والتوضيح والاستماع إلى...   \n",
              "48  هو إتاحة فرص مناسبة لجميع فئات المجتمع، سواء ا...   \n",
              "\n",
              "                                          questions_2  \n",
              "0                         ايه هو هدف السياسة النقدية؟  \n",
              "1        كيف يمكن يتحول البنك المركزى الى نظام مكتمل؟  \n",
              "2         ازاى تقرر لجنة السياسات النقدية سعر العائد؟  \n",
              "3                        ما هى لجنة السياسات النقدية؟  \n",
              "4   ايه هو دور البنك المركزى السعودى في تنظيم العل...  \n",
              "5   ما هي طريقة استقبال الشكاوى من العملاء في البن...  \n",
              "6   ايه هي طرق استقبال الشكاوى في البنك المركزى ال...  \n",
              "7   هل يعتبر حق البنك في اخذ رسوم اصدار بطاقات الصرف؟  \n",
              "8   هل من حق البنك ان يطالب بسداد مستحقات البطاقة ...  \n",
              "9   هل من حق البنك ان يخصم مستحقات البطاقة الائتما...  \n",
              "10  هل يمكن للبنك  ان يرفض منح و اصدار البطاقة الا...  \n",
              "11  هل من حق البنك ان ادراج  تفاصيل بيانات البطاقة...  \n",
              "12  هل يمكن للتجار  بيع إضافة مبلغ 2.5٪ كرسوم بيع ...  \n",
              "13  الى مدى البنك مسئول عن  العمليات التي تتم عن ط...  \n",
              "14   ما هي الفائدة الناتجة من استخدام بطاقة الائتمان؟  \n",
              "15  ايه هي افضل نصيحة  للتقليل من  إساءة استخدام ب...  \n",
              "16  ايه هي افضل نصيحة  لتقديم لمساعدة  في إدارة أم...  \n",
              "17         هل توجد فترة معينة لإخلاء الطرف من البنوك؟  \n",
              "18  ايه هي الإجراءات من البنك المركزى السعودى  تجا...  \n",
              "19  هل  البنوك  تطلب إيداع مبلغ يعادل حد البطاقة ا...  \n",
              "20             هل يوجد مدة صلاحية معينة لإخلاء الطرف؟  \n",
              "21               ايه هو المعرف الشخصي للمرأة المحجبة؟  \n",
              "22  هل  بعض البنوك  ترفض  قبول صورة الأوراق الثبوت...  \n",
              "23      ايه الفرق بين  رقم الآيبان (IPAN)  و  رقم ...  \n",
              "24    هل حق البنوك ان تحصل  رسوم إدارية على الحوال...  \n",
              "25  هل حق البنك  ان يحصل  رسوم إدارية على القروض ا...  \n",
              "26   هل من حق البنك ان  يرفض منح قروض شخصية  اذا  ...  \n",
              "27       هل  من حق البنك ان يرفض  قطع  أكثر من ربع...  \n",
              "28   هل  يمكن للبنك ان يحجز مبلغ   مكافأة نهاية ال...  \n",
              "29    هل من حق البنك  ان يطالب العميل   بسداد أصل ...  \n",
              "30       هل من حق  البنك ان يرفض منح قرض شخصى للعميل؟  \n",
              "31    هل من  حق البنك تسجيل تفاصيل بيانات القرض في...  \n",
              "32    هل يمكن للعميل   الذي لديه قرض شخصي من البنك...  \n",
              "33  هل من حق البنك  ان يخصم   القسط الشهري قبل الم...  \n",
              "34                                ايه هي أنظمة الدفع؟  \n",
              "35    ايه هي اهداف البنك المركزى الخاصة بانظمة الدفع؟  \n",
              "36     ايه هو  دور البنك المركزى المتعلق بنظم الدف...  \n",
              "37  ايه هي اهم  مميزات الخدمات  المصرفية عبر الانت...  \n",
              "38    هل يمكن دفع  رسوم  مقابل  الخدمات المصرفية ع...  \n",
              "39   هل يمكن دفع الرسوم  عبر الانترنت عند التسجيل ...  \n",
              "40  هل  امنة  خدمات البنك التجاري المصرفية عبر الا...  \n",
              "41  ايه  هي  اهم مميزات  الخدمات المصرفية عبر الجوال؟  \n",
              "42    هل لازم انترنت لأحصل  على الخدمات المصرفية ع...  \n",
              "43          ايه  عمليات قروض او دعم  سياسات التنمية؟   \n",
              "44    ايه  هي شروط  و كيف يتم صرف   القرض الثاني ل...  \n",
              "45    ايه هي التغيرات  في سعر الصرف و الساياسة الن...  \n",
              "46  ازاى يتم التعامل بين صندوق النقد الدولي و مشاك...  \n",
              "47   ازاى يتم تبادل  وجهه النظر  في  مشاركة صندوق ...  \n",
              "48                        ما هو  مفهوم الشمول المالى؟  "
            ],
            "text/html": [
              "\n",
              "  <div id=\"df-17b1d944-6165-4cc9-b6dd-f6f3efc7010e\">\n",
              "    <div class=\"colab-df-container\">\n",
              "      <div>\n",
              "<style scoped>\n",
              "    .dataframe tbody tr th:only-of-type {\n",
              "        vertical-align: middle;\n",
              "    }\n",
              "\n",
              "    .dataframe tbody tr th {\n",
              "        vertical-align: top;\n",
              "    }\n",
              "\n",
              "    .dataframe thead th {\n",
              "        text-align: right;\n",
              "    }\n",
              "</style>\n",
              "<table border=\"1\" class=\"dataframe\">\n",
              "  <thead>\n",
              "    <tr style=\"text-align: right;\">\n",
              "      <th></th>\n",
              "      <th>questions</th>\n",
              "      <th>answers</th>\n",
              "      <th>questions_2</th>\n",
              "    </tr>\n",
              "  </thead>\n",
              "  <tbody>\n",
              "    <tr>\n",
              "      <th>0</th>\n",
              "      <td>ما هو هدف السياسة النقدية ؟</td>\n",
              "      <td>يعهد قانون البنك المركزى والجهاز المصرفى والنق...</td>\n",
              "      <td>ايه هو هدف السياسة النقدية؟</td>\n",
              "    </tr>\n",
              "    <tr>\n",
              "      <th>1</th>\n",
              "      <td>ماذا يفعل البنك المركزى المصرى حتى يتحول إلى ن...</td>\n",
              "      <td>يطمح البنك المركزى المصرى فى تطبيق إستهداف الت...</td>\n",
              "      <td>كيف يمكن يتحول البنك المركزى الى نظام مكتمل؟</td>\n",
              "    </tr>\n",
              "    <tr>\n",
              "      <th>2</th>\n",
              "      <td>كيف تقرر لجنة السياسة النقدية أسعار العائد ؟</td>\n",
              "      <td>تعرض على لجنة السياسة النقدية التقارير والدراس...</td>\n",
              "      <td>ازاى تقرر لجنة السياسات النقدية سعر العائد؟</td>\n",
              "    </tr>\n",
              "    <tr>\n",
              "      <th>3</th>\n",
              "      <td>ما هى لجنة السياسة النقدية ؟</td>\n",
              "      <td>تتكون لجنة السياسة النقدية التى تم تشكيلها بقر...</td>\n",
              "      <td>ما هى لجنة السياسات النقدية؟</td>\n",
              "    </tr>\n",
              "    <tr>\n",
              "      <th>4</th>\n",
              "      <td>ما هو دور البنك المركزي السعودي في تنظيم علاقة...</td>\n",
              "      <td>يعتبر البنك المركزي السعودي الجهة الإشرافية وا...</td>\n",
              "      <td>ايه هو دور البنك المركزى السعودى في تنظيم العل...</td>\n",
              "    </tr>\n",
              "    <tr>\n",
              "      <th>5</th>\n",
              "      <td>ما هي آلية استقبال شكاوى العملاء في البنك المر...</td>\n",
              "      <td>في حال عدم قناعة الشاكي بنتائج معالجة شكواه لد...</td>\n",
              "      <td>ما هي طريقة استقبال الشكاوى من العملاء في البن...</td>\n",
              "    </tr>\n",
              "    <tr>\n",
              "      <th>6</th>\n",
              "      <td>ما هي قنوات استقبال الشكاوى في البنك المركزي ا...</td>\n",
              "      <td>إدارة حماية العملاء بالمركز الرئيسي في البنك ...</td>\n",
              "      <td>ايه هي طرق استقبال الشكاوى في البنك المركزى ال...</td>\n",
              "    </tr>\n",
              "    <tr>\n",
              "      <th>7</th>\n",
              "      <td>هل يحق للبنك أخذ رسوم إصدار بطاقات الصرف الآلي؟</td>\n",
              "      <td>اشتملت التعرفة البنكية الصادرة من البنك المركز...</td>\n",
              "      <td>هل يعتبر حق البنك في اخذ رسوم اصدار بطاقات الصرف؟</td>\n",
              "    </tr>\n",
              "    <tr>\n",
              "      <th>8</th>\n",
              "      <td>هل يحق للبنك المطالبة بسداد مستحقات البطاقات ا...</td>\n",
              "      <td>يختلف ذلك حسب نوع البطاقة، فهناك بطاقات الخصم ...</td>\n",
              "      <td>هل من حق البنك ان يطالب بسداد مستحقات البطاقة ...</td>\n",
              "    </tr>\n",
              "    <tr>\n",
              "      <th>9</th>\n",
              "      <td>هل يحق للبنك خصم مستحقات البطاقات الائتمانية م...</td>\n",
              "      <td>يخضع هذا الاجراء إلى الاتفاقية المبرمة بين الب...</td>\n",
              "      <td>هل من حق البنك ان يخصم مستحقات البطاقة الائتما...</td>\n",
              "    </tr>\n",
              "    <tr>\n",
              "      <th>10</th>\n",
              "      <td>هل يحق للبنك رفض إصدار ومنح العميل بطاقة ائتما...</td>\n",
              "      <td>الموافقة على إصدار بطاقة ائتمانية من عدمه تتم ...</td>\n",
              "      <td>هل يمكن للبنك  ان يرفض منح و اصدار البطاقة الا...</td>\n",
              "    </tr>\n",
              "    <tr>\n",
              "      <th>11</th>\n",
              "      <td>هل يحق للبنك عند منح العميل بطاقة ائتمانية إدر...</td>\n",
              "      <td>تتضمن الاتفاقية المبرمة بين البنك والعميل عدة ...</td>\n",
              "      <td>هل من حق البنك ان ادراج  تفاصيل بيانات البطاقة...</td>\n",
              "    </tr>\n",
              "    <tr>\n",
              "      <th>12</th>\n",
              "      <td>هل يحق للتجار الذين لديهم نقاط بيع إضافة مبلغ ...</td>\n",
              "      <td>لا يحق لهم ذلك، وعلى العميل إبلاغ البنك المصدر...</td>\n",
              "      <td>هل يمكن للتجار  بيع إضافة مبلغ 2.5٪ كرسوم بيع ...</td>\n",
              "    </tr>\n",
              "    <tr>\n",
              "      <th>13</th>\n",
              "      <td>ما مدى مسئولية البنك تجاه العمليات المشبوهة أو...</td>\n",
              "      <td>في حال اعتراض العميل على عمليات باستخدام البطا...</td>\n",
              "      <td>الى مدى البنك مسئول عن  العمليات التي تتم عن ط...</td>\n",
              "    </tr>\n",
              "    <tr>\n",
              "      <th>14</th>\n",
              "      <td>ما هي فوائد استخدام بطاقة الائتمان؟</td>\n",
              "      <td>من أسباب انتشار البطاقات والتعامل فيها على مست...</td>\n",
              "      <td>ما هي الفائدة الناتجة من استخدام بطاقة الائتمان؟</td>\n",
              "    </tr>\n",
              "    <tr>\n",
              "      <th>15</th>\n",
              "      <td>ما هي أفضل النصائح للحد من عمليات الاحتيال وإس...</td>\n",
              "      <td>عدم تسليم بطاقة الائتمان لأي شخص غير مسئول...</td>\n",
              "      <td>ايه هي افضل نصيحة  للتقليل من  إساءة استخدام ب...</td>\n",
              "    </tr>\n",
              "    <tr>\n",
              "      <th>16</th>\n",
              "      <td>ما هي أفضل النصائح لمساعدة الشخص في إدارة أمور...</td>\n",
              "      <td>تختلف من شخص إلى آخر حسب دخله المالي ونمط حيات...</td>\n",
              "      <td>ايه هي افضل نصيحة  لتقديم لمساعدة  في إدارة أم...</td>\n",
              "    </tr>\n",
              "    <tr>\n",
              "      <th>17</th>\n",
              "      <td>هل هناك مدة محددة ومعينة لإصدار إخلاء الطرف من...</td>\n",
              "      <td>ينبغي على البنوك إصدار خطاب اخلاء الطرف خلال س...</td>\n",
              "      <td>هل توجد فترة معينة لإخلاء الطرف من البنوك؟</td>\n",
              "    </tr>\n",
              "    <tr>\n",
              "      <th>18</th>\n",
              "      <td>ما هو الإجراء المتخذ من البنك المركزي السعودي ...</td>\n",
              "      <td>البنك الذي يرفض إصدار خطاب إخلاء طرف خلال الفت...</td>\n",
              "      <td>ايه هي الإجراءات من البنك المركزى السعودى  تجا...</td>\n",
              "    </tr>\n",
              "    <tr>\n",
              "      <th>19</th>\n",
              "      <td>هل تقوم بعض البنوك بطلب إيداع مبلغ يعادل حد ال...</td>\n",
              "      <td>لا تقوم البنوك بطلب إيداع مبلغ يعادل الحد الائ...</td>\n",
              "      <td>هل  البنوك  تطلب إيداع مبلغ يعادل حد البطاقة ا...</td>\n",
              "    </tr>\n",
              "    <tr>\n",
              "      <th>20</th>\n",
              "      <td>هل لإخلاء الطرف مدة صلاحية معينة؟</td>\n",
              "      <td>صلاحية إخلاء الطرف شهر واحد تقريباً ويختلف ذلك...</td>\n",
              "      <td>هل يوجد مدة صلاحية معينة لإخلاء الطرف؟</td>\n",
              "    </tr>\n",
              "    <tr>\n",
              "      <th>21</th>\n",
              "      <td>من هو المعرف الشخصي للمرأة المحجبة؟</td>\n",
              "      <td>هو شخص معروف لدى طالبة فتح الحساب المحجبة ومن ...</td>\n",
              "      <td>ايه هو المعرف الشخصي للمرأة المحجبة؟</td>\n",
              "    </tr>\n",
              "    <tr>\n",
              "      <th>22</th>\n",
              "      <td>هل ترفض بعض البنوك قبول صورة الأوراق الثبوتية ...</td>\n",
              "      <td>قواعد فتح الحسابات البنكية والقواعد العامة لتش...</td>\n",
              "      <td>هل  بعض البنوك  ترفض  قبول صورة الأوراق الثبوت...</td>\n",
              "    </tr>\n",
              "    <tr>\n",
              "      <th>23</th>\n",
              "      <td>ما الفرق بين رقم الحساب البنكي و رقم الآيبان (...</td>\n",
              "      <td>رقم الحساب هو الرقم التعريفي للعميل داخل بنكه،...</td>\n",
              "      <td>ايه الفرق بين  رقم الآيبان (IPAN)  و  رقم ...</td>\n",
              "    </tr>\n",
              "    <tr>\n",
              "      <th>24</th>\n",
              "      <td>هل يحق للبنوك تحصيل رسوم إدارية على الحوالات ا...</td>\n",
              "      <td>التعرفة البنكية الصادرة من البنك المركزي السعو...</td>\n",
              "      <td>هل حق البنوك ان تحصل  رسوم إدارية على الحوال...</td>\n",
              "    </tr>\n",
              "    <tr>\n",
              "      <th>25</th>\n",
              "      <td>هل يحق للبنوك تحصيل رسوم إدارية على القروض الش...</td>\n",
              "      <td>للبنك تحصيل نسبة من مبلغ التمويل كرسوم إدارية ...</td>\n",
              "      <td>هل حق البنك  ان يحصل  رسوم إدارية على القروض ا...</td>\n",
              "    </tr>\n",
              "    <tr>\n",
              "      <th>26</th>\n",
              "      <td>هل يحق للبنوك رفض منح قروض شخصية تزيد فترة الس...</td>\n",
              "      <td>التعليمات الصادرة من البنك المركزي السعودي وال...</td>\n",
              "      <td>هل من حق البنك ان  يرفض منح قروض شخصية  اذا  ...</td>\n",
              "    </tr>\n",
              "    <tr>\n",
              "      <th>27</th>\n",
              "      <td>هل يحق للبنوك رفض استقطاع أكثر من ثلث راتب الم...</td>\n",
              "      <td>التعليمات الصادرة عن البنك المركزي السعودي وال...</td>\n",
              "      <td>هل  من حق البنك ان يرفض  قطع  أكثر من ربع...</td>\n",
              "    </tr>\n",
              "    <tr>\n",
              "      <th>28</th>\n",
              "      <td>هل يحق للبنوك حجز مبالغ مكافأة نهاية الخدمة لص...</td>\n",
              "      <td>العقود المبرمة بين البنوك وعملاءها المتعلقة بم...</td>\n",
              "      <td>هل  يمكن للبنك ان يحجز مبلغ   مكافأة نهاية ال...</td>\n",
              "    </tr>\n",
              "    <tr>\n",
              "      <th>29</th>\n",
              "      <td>هل يحق للبنوك في حالة السداد المبكر للقروض الش...</td>\n",
              "      <td>نعم وذلك وفقاً لما تضمنته العقود المبرمة بين ا...</td>\n",
              "      <td>هل من حق البنك  ان يطالب العميل   بسداد أصل ...</td>\n",
              "    </tr>\n",
              "    <tr>\n",
              "      <th>30</th>\n",
              "      <td>هل يحق للبنك رفض منح العميل قرض شخصي؟</td>\n",
              "      <td>نعم. في حال اتضح للبنك عدم قدرة العميل المالية...</td>\n",
              "      <td>هل من حق  البنك ان يرفض منح قرض شخصى للعميل؟</td>\n",
              "    </tr>\n",
              "    <tr>\n",
              "      <th>31</th>\n",
              "      <td>هل يحق للبنك عند منح العميل قرض شخصي تسجيل تفا...</td>\n",
              "      <td>نعم. تتضمن الاتفاقية المبرمة بين البنك والعميل...</td>\n",
              "      <td>هل من  حق البنك تسجيل تفاصيل بيانات القرض في...</td>\n",
              "    </tr>\n",
              "    <tr>\n",
              "      <th>32</th>\n",
              "      <td>هل يحق للعميل الذي لديه قرض شخصي من البنك طلب ...</td>\n",
              "      <td>يحق للعميل طلب قرض شخصي جديد أو تكميلي من البن...</td>\n",
              "      <td>هل يمكن للعميل   الذي لديه قرض شخصي من البنك...</td>\n",
              "    </tr>\n",
              "    <tr>\n",
              "      <th>33</th>\n",
              "      <td>هل يحق للبنك خصم القسط الشهري قبل الموعد المتف...</td>\n",
              "      <td>ينبغي على البنك الالتزام باستقطاع القسط الشهري...</td>\n",
              "      <td>هل من حق البنك  ان يخصم   القسط الشهري قبل الم...</td>\n",
              "    </tr>\n",
              "    <tr>\n",
              "      <th>34</th>\n",
              "      <td>ما هي نظم الدفع؟</td>\n",
              "      <td>يعرف \"نظام الدفع\" على أنه مجموعة الوسائل، والإ...</td>\n",
              "      <td>ايه هي أنظمة الدفع؟</td>\n",
              "    </tr>\n",
              "    <tr>\n",
              "      <th>35</th>\n",
              "      <td>ما أهداف البنك المركزي المتعلقة بنظم الدفع؟</td>\n",
              "      <td>تشجيع وتطوير نظم وخدمات الدفع في مصر.\\nدعم است...</td>\n",
              "      <td>ايه هي اهداف البنك المركزى الخاصة بانظمة الدفع؟</td>\n",
              "    </tr>\n",
              "    <tr>\n",
              "      <th>36</th>\n",
              "      <td>ما  هو دور البنك المركزي فيما يتعلق بنظام المد...</td>\n",
              "      <td>وفقا لقانون البنك المركزي والجهاز المصرفي والن...</td>\n",
              "      <td>ايه هو  دور البنك المركزى المتعلق بنظم الدف...</td>\n",
              "    </tr>\n",
              "    <tr>\n",
              "      <th>37</th>\n",
              "      <td>ما هي أهم مزايا الخدمات المصرفية عبر الانترنت؟...</td>\n",
              "      <td>الخدمات المصرفية عبر الانترنت تتيح لكم الحصول ...</td>\n",
              "      <td>ايه هي اهم  مميزات الخدمات  المصرفية عبر الانت...</td>\n",
              "    </tr>\n",
              "    <tr>\n",
              "      <th>38</th>\n",
              "      <td>هل يدفع رسوما مقابل  الخدمات المصرفية عبر الان...</td>\n",
              "      <td>ليس هناك رسوم تسجيل أو رسوم عضوية مقابل هذه ال...</td>\n",
              "      <td>هل يمكن دفع  رسوم  مقابل  الخدمات المصرفية ع...</td>\n",
              "    </tr>\n",
              "    <tr>\n",
              "      <th>39</th>\n",
              "      <td>هل يدفع رسوما عند التسجيل للحصول على  الخدمات ...</td>\n",
              "      <td>لا توجد حالياً رسوم إشتراك للحصول على الخدمات...</td>\n",
              "      <td>هل يمكن دفع الرسوم  عبر الانترنت عند التسجيل ...</td>\n",
              "    </tr>\n",
              "    <tr>\n",
              "      <th>40</th>\n",
              "      <td>هل خدمات البنك التجاري المصرفية عبر الانترنت آ...</td>\n",
              "      <td>إن خدمات البنك التجاري المصرفية عبر الانترنت آ...</td>\n",
              "      <td>هل  امنة  خدمات البنك التجاري المصرفية عبر الا...</td>\n",
              "    </tr>\n",
              "    <tr>\n",
              "      <th>41</th>\n",
              "      <td>ما هي أهم مزايا الخدمات المصرفية عبر الجوال؟</td>\n",
              "      <td>الخدمات المصرفية عبر الجوال تتيح لكم الحصول عل...</td>\n",
              "      <td>ايه  هي  اهم مميزات  الخدمات المصرفية عبر الجوال؟</td>\n",
              "    </tr>\n",
              "    <tr>\n",
              "      <th>42</th>\n",
              "      <td>هل أحتاج إلى انترنت للحصول على الخدمات المصرفي...</td>\n",
              "      <td>نعم، يجب أن يكون الجهاز الخاص بكم متصلاً بالإن...</td>\n",
              "      <td>هل لازم انترنت لأحصل  على الخدمات المصرفية ع...</td>\n",
              "    </tr>\n",
              "    <tr>\n",
              "      <th>43</th>\n",
              "      <td>ما هي عمليات دعم أو قروض سياسات التنمية؟</td>\n",
              "      <td>قروض سياسات التنمية هي واحدة من ثلاث أدوات تمو...</td>\n",
              "      <td>ايه  عمليات قروض او دعم  سياسات التنمية؟</td>\n",
              "    </tr>\n",
              "    <tr>\n",
              "      <th>44</th>\n",
              "      <td>ما هي شروط القرض الثاني لسياسات التنمية وكيف ي...</td>\n",
              "      <td>حزمة التمويل التي تبلغ قيمتها 1.45 مليار دولار...</td>\n",
              "      <td>ايه  هي شروط  و كيف يتم صرف   القرض الثاني ل...</td>\n",
              "    </tr>\n",
              "    <tr>\n",
              "      <th>45</th>\n",
              "      <td>ما هي التغيرات في السياسة النقدية وسعر الصرف؟ ...</td>\n",
              "      <td>يواصل البنك المركزي المصري انتهاج سياسة نقدية ...</td>\n",
              "      <td>ايه هي التغيرات  في سعر الصرف و الساياسة الن...</td>\n",
              "    </tr>\n",
              "    <tr>\n",
              "      <th>46</th>\n",
              "      <td>كيف يتعامل صندوق النقد الدولي مع مشاكل الفساد؟...</td>\n",
              "      <td>كان تعزيز الحوكمة والحد من الفساد هدفًا هامًّا...</td>\n",
              "      <td>ازاى يتم التعامل بين صندوق النقد الدولي و مشاك...</td>\n",
              "    </tr>\n",
              "    <tr>\n",
              "      <th>47</th>\n",
              "      <td>كيف يمكن تبادل وجهات النظر حول مشاركة صندوق ال...</td>\n",
              "      <td>يلتزم الصندوق بالشفافية والتوضيح والاستماع إلى...</td>\n",
              "      <td>ازاى يتم تبادل  وجهه النظر  في  مشاركة صندوق ...</td>\n",
              "    </tr>\n",
              "    <tr>\n",
              "      <th>48</th>\n",
              "      <td>ماذا يعنى مفهوم الشمول المالى؟</td>\n",
              "      <td>هو إتاحة فرص مناسبة لجميع فئات المجتمع، سواء ا...</td>\n",
              "      <td>ما هو  مفهوم الشمول المالى؟</td>\n",
              "    </tr>\n",
              "  </tbody>\n",
              "</table>\n",
              "</div>\n",
              "      <button class=\"colab-df-convert\" onclick=\"convertToInteractive('df-17b1d944-6165-4cc9-b6dd-f6f3efc7010e')\"\n",
              "              title=\"Convert this dataframe to an interactive table.\"\n",
              "              style=\"display:none;\">\n",
              "        \n",
              "  <svg xmlns=\"http://www.w3.org/2000/svg\" height=\"24px\"viewBox=\"0 0 24 24\"\n",
              "       width=\"24px\">\n",
              "    <path d=\"M0 0h24v24H0V0z\" fill=\"none\"/>\n",
              "    <path d=\"M18.56 5.44l.94 2.06.94-2.06 2.06-.94-2.06-.94-.94-2.06-.94 2.06-2.06.94zm-11 1L8.5 8.5l.94-2.06 2.06-.94-2.06-.94L8.5 2.5l-.94 2.06-2.06.94zm10 10l.94 2.06.94-2.06 2.06-.94-2.06-.94-.94-2.06-.94 2.06-2.06.94z\"/><path d=\"M17.41 7.96l-1.37-1.37c-.4-.4-.92-.59-1.43-.59-.52 0-1.04.2-1.43.59L10.3 9.45l-7.72 7.72c-.78.78-.78 2.05 0 2.83L4 21.41c.39.39.9.59 1.41.59.51 0 1.02-.2 1.41-.59l7.78-7.78 2.81-2.81c.8-.78.8-2.07 0-2.86zM5.41 20L4 18.59l7.72-7.72 1.47 1.35L5.41 20z\"/>\n",
              "  </svg>\n",
              "      </button>\n",
              "      \n",
              "  <style>\n",
              "    .colab-df-container {\n",
              "      display:flex;\n",
              "      flex-wrap:wrap;\n",
              "      gap: 12px;\n",
              "    }\n",
              "\n",
              "    .colab-df-convert {\n",
              "      background-color: #E8F0FE;\n",
              "      border: none;\n",
              "      border-radius: 50%;\n",
              "      cursor: pointer;\n",
              "      display: none;\n",
              "      fill: #1967D2;\n",
              "      height: 32px;\n",
              "      padding: 0 0 0 0;\n",
              "      width: 32px;\n",
              "    }\n",
              "\n",
              "    .colab-df-convert:hover {\n",
              "      background-color: #E2EBFA;\n",
              "      box-shadow: 0px 1px 2px rgba(60, 64, 67, 0.3), 0px 1px 3px 1px rgba(60, 64, 67, 0.15);\n",
              "      fill: #174EA6;\n",
              "    }\n",
              "\n",
              "    [theme=dark] .colab-df-convert {\n",
              "      background-color: #3B4455;\n",
              "      fill: #D2E3FC;\n",
              "    }\n",
              "\n",
              "    [theme=dark] .colab-df-convert:hover {\n",
              "      background-color: #434B5C;\n",
              "      box-shadow: 0px 1px 3px 1px rgba(0, 0, 0, 0.15);\n",
              "      filter: drop-shadow(0px 1px 2px rgba(0, 0, 0, 0.3));\n",
              "      fill: #FFFFFF;\n",
              "    }\n",
              "  </style>\n",
              "\n",
              "      <script>\n",
              "        const buttonEl =\n",
              "          document.querySelector('#df-17b1d944-6165-4cc9-b6dd-f6f3efc7010e button.colab-df-convert');\n",
              "        buttonEl.style.display =\n",
              "          google.colab.kernel.accessAllowed ? 'block' : 'none';\n",
              "\n",
              "        async function convertToInteractive(key) {\n",
              "          const element = document.querySelector('#df-17b1d944-6165-4cc9-b6dd-f6f3efc7010e');\n",
              "          const dataTable =\n",
              "            await google.colab.kernel.invokeFunction('convertToInteractive',\n",
              "                                                     [key], {});\n",
              "          if (!dataTable) return;\n",
              "\n",
              "          const docLinkHtml = 'Like what you see? Visit the ' +\n",
              "            '<a target=\"_blank\" href=https://colab.research.google.com/notebooks/data_table.ipynb>data table notebook</a>'\n",
              "            + ' to learn more about interactive tables.';\n",
              "          element.innerHTML = '';\n",
              "          dataTable['output_type'] = 'display_data';\n",
              "          await google.colab.output.renderOutput(dataTable, element);\n",
              "          const docLink = document.createElement('div');\n",
              "          docLink.innerHTML = docLinkHtml;\n",
              "          element.appendChild(docLink);\n",
              "        }\n",
              "      </script>\n",
              "    </div>\n",
              "  </div>\n",
              "  "
            ]
          },
          "metadata": {},
          "execution_count": 13
        }
      ],
      "source": [
        "import pandas as pd\n",
        "data_created=pd.read_excel(\"/content/drive/MyDrive/GP/polices.xlsx\")\n",
        "data_created"
      ]
    },
    {
      "cell_type": "markdown",
      "source": [
        "# Similarity based metrics."
      ],
      "metadata": {
        "id": "I96kNwBC4XcY"
      }
    },
    {
      "cell_type": "markdown",
      "source": [
        "### Cosine Similarity"
      ],
      "metadata": {
        "id": "uw3Cu3f7SYvB"
      }
    },
    {
      "cell_type": "code",
      "source": [
        "accuracies=[]\n",
        "for i in range(len(data_created)):\n",
        "    cosine_scores = nlp(str(data_created.iloc[i][0])).similarity(nlp(str(data_created.iloc[i][2])))\n",
        "    \n",
        "    accuracies.append(cosine_scores)\n",
        "    print(data_created.iloc[i][0],\" Score:\",cosine_scores)\n",
        "\n",
        "cosine_score=sum(accuracies)/len(data_created)\n",
        "print(\"Correlation Average using Cosine Similarity=\",cosine_score)"
      ],
      "metadata": {
        "colab": {
          "base_uri": "https://localhost:8080/"
        },
        "id": "kwiACUk2SdyI",
        "outputId": "726ae1ec-d573-4991-a804-2a7576c5d9b2"
      },
      "execution_count": 11,
      "outputs": [
        {
          "output_type": "stream",
          "name": "stdout",
          "text": [
            "ما هو هدف السياسة النقدية ؟   Score: 0.9374566792548238\n",
            "ماذا يفعل البنك المركزى المصرى حتى يتحول إلى نظام مكتمل الملامح لإستهداف التضخم (Inflation Targeting Regime) ؟  Score: 0.8865554408530075\n",
            "كيف تقرر لجنة السياسة النقدية أسعار العائد ؟  Score: 0.9046783525081978\n",
            "ما هى لجنة السياسة النقدية ؟  Score: 0.9731075138317797\n",
            "ما هو دور البنك المركزي السعودي في تنظيم علاقة البنوك وشركات التأمين وشركات التمويل مع عملاءه؟  Score: 0.9751725626010426\n",
            "ما هي آلية استقبال شكاوى العملاء في البنك المركزي السعودي؟\n",
            "  Score: 0.9564789185465701\n",
            "ما هي قنوات استقبال الشكاوى في البنك المركزي السعودي؟  Score: 0.9511105846948558\n",
            "هل يحق للبنك أخذ رسوم إصدار بطاقات الصرف الآلي؟  Score: 0.9366847739603515\n",
            "هل يحق للبنك المطالبة بسداد مستحقات البطاقات الائتمانية بالكامل؟  Score: 0.8749104293190757\n",
            "هل يحق للبنك خصم مستحقات البطاقات الائتمانية من حساب العميل مباشرة؟  Score: 0.932807552589022\n",
            "هل يحق للبنك رفض إصدار ومنح العميل بطاقة ائتمانية؟  Score: 0.8971175715280164\n",
            "هل يحق للبنك عند منح العميل بطاقة ائتمانية إدراج تفاصيل بيانات البطاقة في الشركة السعودية للمعلومات الائتمانية \"سمة\"؟  Score: 0.9497049268481417\n",
            "هل يحق للتجار الذين لديهم نقاط بيع إضافة مبلغ 2.5٪ كرسوم بيع لمبلغ العملة الشرائية؟  Score: 0.9848613230861759\n",
            "ما مدى مسئولية البنك تجاه العمليات المشبوهة أو العمليات التي تتم عن طريق البطاقات المستنسخة بياناتها؟  Score: 0.9694318435182355\n",
            "ما هي فوائد استخدام بطاقة الائتمان؟  Score: 0.9488182538137689\n",
            "ما هي أفضل النصائح للحد من عمليات الاحتيال وإساءة استخدام بطاقة الائتمان؟  Score: 0.9354810115917671\n",
            "ما هي أفضل النصائح لمساعدة الشخص في إدارة أموره المالية بطريقة سليمة؟\n",
            "  Score: 0.891165902956258\n",
            "هل هناك مدة محددة ومعينة لإصدار إخلاء الطرف من البنوك؟  Score: 0.9431662419282599\n",
            "ما هو الإجراء المتخذ من البنك المركزي السعودي تجاه البنوك التي ترفض إصدار خطاب إخلاء الطرف؟  Score: 0.9546821142532023\n",
            "هل تقوم بعض البنوك بطلب إيداع مبلغ يعادل حد البطاقة الائتمانية لإصدار خطاب إخلاء الطرف؟  Score: 0.9642978425860488\n",
            "هل لإخلاء الطرف مدة صلاحية معينة؟  Score: 0.9667419148568593\n",
            "من هو المعرف الشخصي للمرأة المحجبة؟  Score: 0.9418966464776192\n",
            "هل ترفض بعض البنوك قبول صورة الأوراق الثبوتية كصورة بطاقة الهوية الوطنية  ؟       Score: 0.9999999361218758\n",
            "ما الفرق بين رقم الحساب البنكي و رقم الآيبان (IPAN)؟             Score: 0.9682765619030693\n",
            "هل يحق للبنوك تحصيل رسوم إدارية على الحوالات التي تتم عبر القنوات البنكية؟             Score: 0.9541616234535433\n",
            "هل يحق للبنوك تحصيل رسوم إدارية على القروض الشخصية؟                 Score: 0.925895388572599\n",
            "هل يحق للبنوك رفض منح قروض شخصية تزيد فترة السداد عن خمس سنوات (60 شهراً)؟              Score: 0.9164236610489268\n",
            "هل يحق للبنوك رفض استقطاع أكثر من ثلث راتب الموظف وربع راتب المتقاعد شهرياً لصالح القروض الشخصية؟             Score: 0.9354438932618488\n",
            "هل يحق للبنوك حجز مبالغ مكافأة نهاية الخدمة لصالح المديونيات القائمة على العملاء؟                    Score: 0.914987330147386\n",
            "هل يحق للبنوك في حالة السداد المبكر للقروض الشخصية مطالبة العميل بسداد أصل القرض مع كلفة الأجل؟                 Score: 0.9414276028040286\n",
            "هل يحق للبنك رفض منح العميل قرض شخصي؟    Score: 0.9055244486129449\n",
            "هل يحق للبنك عند منح العميل قرض شخصي تسجيل تفاصيل بيانات القرض في الشركة السعودية للمعلومات الائتمانية \"سمة\"؟                         Score: 0.9807250704935827\n",
            "هل يحق للعميل الذي لديه قرض شخصي من البنك طلب قرض جديد من البنك؟             Score: 0.9670934481183766\n",
            "هل يحق للبنك خصم القسط الشهري قبل الموعد المتفق عليه لخصم القسط الشهري؟              Score: 0.9044320217718387\n",
            "ما هي نظم الدفع؟  Score: 0.8688429851748718\n",
            "ما أهداف البنك المركزي المتعلقة بنظم الدفع؟  Score: 0.8885158205529061\n",
            "ما  هو دور البنك المركزي فيما يتعلق بنظام المدفوعات القومي؟             Score: 0.8843756575333351\n",
            "ما هي أهم مزايا الخدمات المصرفية عبر الانترنت؟             Score: 0.9483069808381147\n",
            "هل يدفع رسوما مقابل  الخدمات المصرفية عبر الانترنت ؟   Score: 0.967435444967658\n",
            "هل يدفع رسوما عند التسجيل للحصول على  الخدمات المصرفية عبر الانترنت؟         Score: 0.9797975432577803\n",
            "هل خدمات البنك التجاري المصرفية عبر الانترنت آمنة؟          Score: 0.9999999708261323\n",
            "ما هي أهم مزايا الخدمات المصرفية عبر الجوال؟     Score: 0.9453562932843618\n",
            "هل أحتاج إلى انترنت للحصول على الخدمات المصرفية عبر الجوال؟    Score: 0.9381056694725027\n",
            "ما هي عمليات دعم أو قروض سياسات التنمية؟     Score: 0.946969165449623\n",
            "ما هي شروط القرض الثاني لسياسات التنمية وكيف يتم صرفه؟     Score: 0.9482250918374027\n",
            "ما هي التغيرات في السياسة النقدية وسعر الصرف؟           Score: 0.9378091918222353\n",
            "كيف يتعامل صندوق النقد الدولي مع مشاكل الفساد؟ كيف يمكن ضمان استخدام أموال القرض للأغراض المقصودة؟            Score: 0.9420004005747269\n",
            "كيف يمكن تبادل وجهات النظر حول مشاركة صندوق النقد الدولي؟      Score: 0.925329578726762\n",
            "ماذا يعنى مفهوم الشمول المالى؟   Score: 0.8770052126654118\n",
            "Correlation Average using Cosine Similarity= 0.9385468243856512\n"
          ]
        }
      ]
    },
    {
      "cell_type": "markdown",
      "source": [
        "###  Pearson’s correlation and Spearman’s correlation"
      ],
      "metadata": {
        "id": "ZYbDqweuTP1w"
      }
    },
    {
      "cell_type": "code",
      "source": [
        "spearman_corr=[]\n",
        "pearson_corr=[]\n",
        "\n",
        "for i in range(len(data_created)):\n",
        "    embedding_11=nlp(str(data_created.iloc[i][0])).vector\n",
        "    embedding_22=nlp(str(data_created.iloc[i][2])).vector\n",
        "    sp_corr, _ = spearmanr(embedding_11, embedding_22)\n",
        "    ps_corr, _ = pearsonr(embedding_11, embedding_22)  \n",
        "    spearman_corr.append(sp_corr)\n",
        "    pearson_corr.append(ps_corr)\n",
        "    print(\"spearman's score=\",sp_corr, \" pearson's score=\",ps_corr,\" \\n\",data_created.iloc[i][0], \"  \",data_created.iloc[i][2],\"\\n\")\n",
        "\n",
        "pears_score=sum(pearson_corr)/len(data_created)\n",
        "spear_score=sum(spearman_corr)/len(data_created)\n",
        "print(\"Correlation Average using Pearson’s =\",pears_score)\n",
        "print(\"Correlation Average using Spearman’s =\",spear_score)"
      ],
      "metadata": {
        "colab": {
          "base_uri": "https://localhost:8080/"
        },
        "id": "o_w3H6TRTTMJ",
        "outputId": "47ca8bdd-fb4f-4062-f09f-886448d4bc67"
      },
      "execution_count": 12,
      "outputs": [
        {
          "output_type": "stream",
          "name": "stdout",
          "text": [
            "spearman's score= 0.9327908087867642  pearson's score= 0.93736168081556  \n",
            " ما هو هدف السياسة النقدية ؟     ايه هو هدف السياسة النقدية؟ \n",
            "\n",
            "spearman's score= 0.8869476327514749  pearson's score= 0.8854143458744131  \n",
            " ماذا يفعل البنك المركزى المصرى حتى يتحول إلى نظام مكتمل الملامح لإستهداف التضخم (Inflation Targeting Regime) ؟    كيف يمكن يتحول البنك المركزى الى نظام مكتمل؟ \n",
            "\n",
            "spearman's score= 0.885502283358704  pearson's score= 0.9044393035143067  \n",
            " كيف تقرر لجنة السياسة النقدية أسعار العائد ؟    ازاى تقرر لجنة السياسات النقدية سعر العائد؟ \n",
            "\n",
            "spearman's score= 0.9700747786086512  pearson's score= 0.9728908116476543  \n",
            " ما هى لجنة السياسة النقدية ؟     ما هى لجنة السياسات النقدية؟ \n",
            "\n",
            "spearman's score= 0.9733232591473239  pearson's score= 0.9749356587637203  \n",
            " ما هو دور البنك المركزي السعودي في تنظيم علاقة البنوك وشركات التأمين وشركات التمويل مع عملاءه؟    ايه هو دور البنك المركزى السعودى في تنظيم العلاقات بين البنوك  و شركات التمويل مع العملاء و شركات التامين ؟  \n",
            "\n",
            "spearman's score= 0.9499589995444392  pearson's score= 0.9560277960819815  \n",
            " ما هي آلية استقبال شكاوى العملاء في البنك المركزي السعودي؟\n",
            "    ما هي طريقة استقبال الشكاوى من العملاء في البنك المركزى السعودى؟ \n",
            "\n",
            "spearman's score= 0.9406931188124312  pearson's score= 0.950719968360957  \n",
            " ما هي قنوات استقبال الشكاوى في البنك المركزي السعودي؟    ايه هي طرق استقبال الشكاوى في البنك المركزى السعودى؟ \n",
            "\n",
            "spearman's score= 0.9272000800008887  pearson's score= 0.9362318915953353  \n",
            " هل يحق للبنك أخذ رسوم إصدار بطاقات الصرف الآلي؟    هل يعتبر حق البنك في اخذ رسوم اصدار بطاقات الصرف؟ \n",
            "\n",
            "spearman's score= 0.8593739930443671  pearson's score= 0.8742499232059311  \n",
            " هل يحق للبنك المطالبة بسداد مستحقات البطاقات الائتمانية بالكامل؟    هل من حق البنك ان يطالب بسداد مستحقات البطاقة الائتمانية؟ \n",
            "\n",
            "spearman's score= 0.9220484672051911  pearson's score= 0.9323952092928747  \n",
            " هل يحق للبنك خصم مستحقات البطاقات الائتمانية من حساب العميل مباشرة؟    هل من حق البنك ان يخصم مستحقات البطاقة الائتمانية من حسابات العملاء مباشرة؟ \n",
            "\n",
            "spearman's score= 0.8728279203102256  pearson's score= 0.8965046035846901  \n",
            " هل يحق للبنك رفض إصدار ومنح العميل بطاقة ائتمانية؟    هل يمكن للبنك  ان يرفض منح و اصدار البطاقة الائتمانية للعميل؟ \n",
            "\n",
            "spearman's score= 0.9388570984122045  pearson's score= 0.9490124019205507  \n",
            " هل يحق للبنك عند منح العميل بطاقة ائتمانية إدراج تفاصيل بيانات البطاقة في الشركة السعودية للمعلومات الائتمانية \"سمة\"؟    هل من حق البنك ان ادراج  تفاصيل بيانات البطاقة في الشركة السعودية للمعلومات الائتمانية \"سمة\" عند منحها للعميل؟ \n",
            "\n",
            "spearman's score= 0.9829518105756729  pearson's score= 0.9848267571791128  \n",
            " هل يحق للتجار الذين لديهم نقاط بيع إضافة مبلغ 2.5٪ كرسوم بيع لمبلغ العملة الشرائية؟    هل يمكن للتجار  بيع إضافة مبلغ 2.5٪ كرسوم بيع لمبلغ العملة الشرائية الذين لديهم نقاط ؟ \n",
            "\n",
            "spearman's score= 0.9672885254280602  pearson's score= 0.9692504143686524  \n",
            " ما مدى مسئولية البنك تجاه العمليات المشبوهة أو العمليات التي تتم عن طريق البطاقات المستنسخة بياناتها؟    الى مدى البنك مسئول عن  العمليات التي تتم عن طريق البطاقات المستنسخة بياناتها او  العمليات المشبوه؟ \n",
            "\n",
            "spearman's score= 0.9480038667096301  pearson's score= 0.948569973004696  \n",
            " ما هي فوائد استخدام بطاقة الائتمان؟    ما هي الفائدة الناتجة من استخدام بطاقة الائتمان؟ \n",
            "\n",
            "spearman's score= 0.9305805620062445  pearson's score= 0.9349651276154056  \n",
            " ما هي أفضل النصائح للحد من عمليات الاحتيال وإساءة استخدام بطاقة الائتمان؟    ايه هي افضل نصيحة  للتقليل من  إساءة استخدام بطاقة الائتمان و عمليات الاحتيال؟ \n",
            "\n",
            "spearman's score= 0.882004022266914  pearson's score= 0.8906272435360247  \n",
            " ما هي أفضل النصائح لمساعدة الشخص في إدارة أموره المالية بطريقة سليمة؟\n",
            "    ايه هي افضل نصيحة  لتقديم لمساعدة  في إدارة أموره المالية بطريق صحيحة؟ \n",
            "\n",
            "spearman's score= 0.9341197124412493  pearson's score= 0.9434652090333124  \n",
            " هل هناك مدة محددة ومعينة لإصدار إخلاء الطرف من البنوك؟    هل توجد فترة معينة لإخلاء الطرف من البنوك؟ \n",
            "\n",
            "spearman's score= 0.9531288125423615  pearson's score= 0.9543418562859239  \n",
            " ما هو الإجراء المتخذ من البنك المركزي السعودي تجاه البنوك التي ترفض إصدار خطاب إخلاء الطرف؟    ايه هي الإجراءات من البنك المركزى السعودى  تجاه البنوك التي ترفض  ان تصدر خطابات إخلاء الطرف؟ \n",
            "\n",
            "spearman's score= 0.9626604740052668  pearson's score= 0.9641366316700558  \n",
            " هل تقوم بعض البنوك بطلب إيداع مبلغ يعادل حد البطاقة الائتمانية لإصدار خطاب إخلاء الطرف؟    هل  البنوك  تطلب إيداع مبلغ يعادل حد البطاقة الائتمانية لكى تصدر خطاب إخلاء الطرف؟ \n",
            "\n",
            "spearman's score= 0.9643644929388104  pearson's score= 0.966643388845057  \n",
            " هل لإخلاء الطرف مدة صلاحية معينة؟    هل يوجد مدة صلاحية معينة لإخلاء الطرف؟ \n",
            "\n",
            "spearman's score= 0.9343792708807875  pearson's score= 0.9413216615541692  \n",
            " من هو المعرف الشخصي للمرأة المحجبة؟    ايه هو المعرف الشخصي للمرأة المحجبة؟ \n",
            "\n",
            "spearman's score= 1.0  pearson's score= 0.999999999999999  \n",
            " هل ترفض بعض البنوك قبول صورة الأوراق الثبوتية كصورة بطاقة الهوية الوطنية  ؟         هل  بعض البنوك  ترفض  قبول صورة الأوراق الثبوتية كصورة بطاقة الهوية الوطنية؟ \n",
            "\n",
            "spearman's score= 0.9664565161835131  pearson's score= 0.9681135495541521  \n",
            " ما الفرق بين رقم الحساب البنكي و رقم الآيبان (IPAN)؟                   ايه الفرق بين  رقم الآيبان (IPAN)  و  رقم الحساب البنكي؟ \n",
            "\n",
            "spearman's score= 0.9525474727496972  pearson's score= 0.9538955308259344  \n",
            " هل يحق للبنوك تحصيل رسوم إدارية على الحوالات التي تتم عبر القنوات البنكية؟                 هل حق البنوك ان تحصل  رسوم إدارية على الحوالات التي تتم عبر القنوات البنكية؟    \n",
            "\n",
            "spearman's score= 0.9203395593284368  pearson's score= 0.9248102728594518  \n",
            " هل يحق للبنوك تحصيل رسوم إدارية على القروض الشخصية؟                   هل حق البنك  ان يحصل  رسوم إدارية على القروض الشخصية؟  \n",
            "\n",
            "spearman's score= 0.9058496205513393  pearson's score= 0.916701587001631  \n",
            " هل يحق للبنوك رفض منح قروض شخصية تزيد فترة السداد عن خمس سنوات (60 شهراً)؟                 هل من حق البنك ان  يرفض منح قروض شخصية  اذا  زادت فترة السداد عن خمس سنوات؟ \n",
            "\n",
            "spearman's score= 0.9338299314436826  pearson's score= 0.9353040989928112  \n",
            " هل يحق للبنوك رفض استقطاع أكثر من ثلث راتب الموظف وربع راتب المتقاعد شهرياً لصالح القروض الشخصية؟                    هل  من حق البنك ان يرفض  قطع  أكثر من ربع راتب المتقاعد  و ثلث راتب الموظف و شهرياً لصالح القروض الشخصية؟  \n",
            "\n",
            "spearman's score= 0.9057478416426848  pearson's score= 0.9141464182210969  \n",
            " هل يحق للبنوك حجز مبالغ مكافأة نهاية الخدمة لصالح المديونيات القائمة على العملاء؟                       هل  يمكن للبنك ان يحجز مبلغ   مكافأة نهاية الخدمة من اجل المديونيات القائمة على العملاء؟   \n",
            "\n",
            "spearman's score= 0.9348370537450416  pearson's score= 0.940853616785446  \n",
            " هل يحق للبنوك في حالة السداد المبكر للقروض الشخصية مطالبة العميل بسداد أصل القرض مع كلفة الأجل؟                     هل من حق البنك  ان يطالب العميل   بسداد أصل القرض مع كلفة الأجل  ي حالة السداد المبكر للقروض الشخصية؟ \n",
            "\n",
            "spearman's score= 0.8826595851065012  pearson's score= 0.9045972760914888  \n",
            " هل يحق للبنك رفض منح العميل قرض شخصي؟        هل من حق  البنك ان يرفض منح قرض شخصى للعميل؟ \n",
            "\n",
            "spearman's score= 0.9760677340859343  pearson's score= 0.9804701358104069  \n",
            " هل يحق للبنك عند منح العميل قرض شخصي تسجيل تفاصيل بيانات القرض في الشركة السعودية للمعلومات الائتمانية \"سمة\"؟                             هل من  حق البنك تسجيل تفاصيل بيانات القرض في الشركة السعودية للمعلومات الائتمانية \"سمة\" عند منح قرض شخصى للعميل؟ \n",
            "\n",
            "spearman's score= 0.9595671063011809  pearson's score= 0.966632012805508  \n",
            " هل يحق للعميل الذي لديه قرض شخصي من البنك طلب قرض جديد من البنك؟                 هل يمكن للعميل   الذي لديه قرض شخصي من البنك المطالبة  بقرض جديد ؟    \n",
            "\n",
            "spearman's score= 0.8978993099923331  pearson's score= 0.9041296530279876  \n",
            " هل يحق للبنك خصم القسط الشهري قبل الموعد المتفق عليه لخصم القسط الشهري؟                هل من حق البنك  ان يخصم   القسط الشهري قبل الموعد المتفق عليه ؟ \n",
            "\n",
            "spearman's score= 0.8601677796419959  pearson's score= 0.8685490349328435  \n",
            " ما هي نظم الدفع؟    ايه هي أنظمة الدفع؟ \n",
            "\n",
            "spearman's score= 0.8733488149868331  pearson's score= 0.8875921130253127  \n",
            " ما أهداف البنك المركزي المتعلقة بنظم الدفع؟    ايه هي اهداف البنك المركزى الخاصة بانظمة الدفع؟ \n",
            "\n",
            "spearman's score= 0.8676545294947722  pearson's score= 0.8831723196344571  \n",
            " ما  هو دور البنك المركزي فيما يتعلق بنظام المدفوعات القومي؟                  ايه هو  دور البنك المركزى المتعلق بنظم الدفع القومى؟ \n",
            "\n",
            "spearman's score= 0.9376504183379816  pearson's score= 0.9482468125179747  \n",
            " ما هي أهم مزايا الخدمات المصرفية عبر الانترنت؟               ايه هي اهم  مميزات الخدمات  المصرفية عبر الانترنت؟   \n",
            "\n",
            "spearman's score= 0.9599791108790097  pearson's score= 0.96739286206984  \n",
            " هل يدفع رسوما مقابل  الخدمات المصرفية عبر الانترنت ؟       هل يمكن دفع  رسوم  مقابل  الخدمات المصرفية عبر الانترنت ؟ \n",
            "\n",
            "spearman's score= 0.9762668474094156  pearson's score= 0.979672060370874  \n",
            " هل يدفع رسوما عند التسجيل للحصول على  الخدمات المصرفية عبر الانترنت؟            هل يمكن دفع الرسوم  عبر الانترنت عند التسجيل للحصول على  الخدمات المصرفية ؟ \n",
            "\n",
            "spearman's score= 1.0  pearson's score= 0.9999999999999976  \n",
            " هل خدمات البنك التجاري المصرفية عبر الانترنت آمنة؟            هل  امنة  خدمات البنك التجاري المصرفية عبر الانترنت؟ \n",
            "\n",
            "spearman's score= 0.9355392837698195  pearson's score= 0.9452418551538412  \n",
            " ما هي أهم مزايا الخدمات المصرفية عبر الجوال؟       ايه  هي  اهم مميزات  الخدمات المصرفية عبر الجوال؟ \n",
            "\n",
            "spearman's score= 0.9361077345303837  pearson's score= 0.9376546398785264  \n",
            " هل أحتاج إلى انترنت للحصول على الخدمات المصرفية عبر الجوال؟        هل لازم انترنت لأحصل  على الخدمات المصرفية عبر الجوال؟ \n",
            "\n",
            "spearman's score= 0.9372650807231191  pearson's score= 0.9465843641549819  \n",
            " ما هي عمليات دعم أو قروض سياسات التنمية؟       ايه  عمليات قروض او دعم  سياسات التنمية؟  \n",
            "\n",
            "spearman's score= 0.9391446571628573  pearson's score= 0.9479189474739236  \n",
            " ما هي شروط القرض الثاني لسياسات التنمية وكيف يتم صرفه؟         ايه  هي شروط  و كيف يتم صرف   القرض الثاني لسياسات التنمية؟ \n",
            "\n",
            "spearman's score= 0.9291032122579139  pearson's score= 0.9375221629902228  \n",
            " ما هي التغيرات في السياسة النقدية وسعر الصرف؟               ايه هي التغيرات  في سعر الصرف و الساياسة النقدية؟ \n",
            "\n",
            "spearman's score= 0.9323596928854764  pearson's score= 0.9415343185106136  \n",
            " كيف يتعامل صندوق النقد الدولي مع مشاكل الفساد؟ كيف يمكن ضمان استخدام أموال القرض للأغراض المقصودة؟              ازاى يتم التعامل بين صندوق النقد الدولي و مشاكل الفساد ؟  كيف يضمن   استخدام أموال القرض للأغراض  المقصودة؟  \n",
            "\n",
            "spearman's score= 0.9131088123201367  pearson's score= 0.9248580850390643  \n",
            " كيف يمكن تبادل وجهات النظر حول مشاركة صندوق النقد الدولي؟         ازاى يتم تبادل  وجهه النظر  في  مشاركة صندوق النقد الدولي؟ \n",
            "\n",
            "spearman's score= 0.8694123268036312  pearson's score= 0.8764096317333606  \n",
            " ماذا يعنى مفهوم الشمول المالى؟     ما هو  مفهوم الشمول المالى؟ \n",
            "\n",
            "Correlation Average using Pearson’s = 0.9381701064737167\n",
            "Correlation Average using Spearman’s = 0.9310610208594154\n"
          ]
        }
      ]
    },
    {
      "cell_type": "markdown",
      "source": [
        "## Distance based metrics"
      ],
      "metadata": {
        "id": "Vwc_114dgPKm"
      }
    },
    {
      "cell_type": "markdown",
      "source": [
        "###  Manhatan Distance"
      ],
      "metadata": {
        "id": "wPtsBF9FTMD5"
      }
    },
    {
      "cell_type": "code",
      "source": [
        "manh_distances=[]\n",
        "for i in range(len(data_created)):\n",
        "    embedding_11=nlp(str(data_created.iloc[i][0])).vector\n",
        "    embedding_22=nlp(str(data_created.iloc[i][2])).vector\n",
        "    dst = distance.cityblock(embedding_11,embedding_22)\n",
        "    print(\"Manhatan distance =\",dst, \" \\n\",data_created.iloc[i][0], \"  \",data_created.iloc[i][2],\"\\n\")\n",
        "    manh_distances.append(dst)\n",
        "#     print(data_created.iloc[i][0],\" Manhatan Distance:\",cosine_scores)\n",
        "\n",
        "manh_distances\n",
        "\n",
        "manh_score=sum(manh_distances)/len(data_created)\n",
        "\n",
        "print(\"Average distance using Manhatan distance=\",manh_score)"
      ],
      "metadata": {
        "colab": {
          "base_uri": "https://localhost:8080/"
        },
        "id": "4huQNsqSTI3B",
        "outputId": "b01807bb-6c26-4588-ef2c-fe2b4db3c9ee"
      },
      "execution_count": 13,
      "outputs": [
        {
          "output_type": "stream",
          "name": "stdout",
          "text": [
            "Manhatan distance = 65.32497  \n",
            " ما هو هدف السياسة النقدية ؟     ايه هو هدف السياسة النقدية؟ \n",
            "\n",
            "Manhatan distance = 93.69423  \n",
            " ماذا يفعل البنك المركزى المصرى حتى يتحول إلى نظام مكتمل الملامح لإستهداف التضخم (Inflation Targeting Regime) ؟    كيف يمكن يتحول البنك المركزى الى نظام مكتمل؟ \n",
            "\n",
            "Manhatan distance = 63.8925  \n",
            " كيف تقرر لجنة السياسة النقدية أسعار العائد ؟    ازاى تقرر لجنة السياسات النقدية سعر العائد؟ \n",
            "\n",
            "Manhatan distance = 58.603657  \n",
            " ما هى لجنة السياسة النقدية ؟     ما هى لجنة السياسات النقدية؟ \n",
            "\n",
            "Manhatan distance = 37.70464  \n",
            " ما هو دور البنك المركزي السعودي في تنظيم علاقة البنوك وشركات التأمين وشركات التمويل مع عملاءه؟    ايه هو دور البنك المركزى السعودى في تنظيم العلاقات بين البنوك  و شركات التمويل مع العملاء و شركات التامين ؟  \n",
            "\n",
            "Manhatan distance = 50.73676  \n",
            " ما هي آلية استقبال شكاوى العملاء في البنك المركزي السعودي؟\n",
            "    ما هي طريقة استقبال الشكاوى من العملاء في البنك المركزى السعودى؟ \n",
            "\n",
            "Manhatan distance = 50.85011  \n",
            " ما هي قنوات استقبال الشكاوى في البنك المركزي السعودي؟    ايه هي طرق استقبال الشكاوى في البنك المركزى السعودى؟ \n",
            "\n",
            "Manhatan distance = 59.619293  \n",
            " هل يحق للبنك أخذ رسوم إصدار بطاقات الصرف الآلي؟    هل يعتبر حق البنك في اخذ رسوم اصدار بطاقات الصرف؟ \n",
            "\n",
            "Manhatan distance = 81.0598  \n",
            " هل يحق للبنك المطالبة بسداد مستحقات البطاقات الائتمانية بالكامل؟    هل من حق البنك ان يطالب بسداد مستحقات البطاقة الائتمانية؟ \n",
            "\n",
            "Manhatan distance = 59.276764  \n",
            " هل يحق للبنك خصم مستحقات البطاقات الائتمانية من حساب العميل مباشرة؟    هل من حق البنك ان يخصم مستحقات البطاقة الائتمانية من حسابات العملاء مباشرة؟ \n",
            "\n",
            "Manhatan distance = 66.342606  \n",
            " هل يحق للبنك رفض إصدار ومنح العميل بطاقة ائتمانية؟    هل يمكن للبنك  ان يرفض منح و اصدار البطاقة الائتمانية للعميل؟ \n",
            "\n",
            "Manhatan distance = 45.792244  \n",
            " هل يحق للبنك عند منح العميل بطاقة ائتمانية إدراج تفاصيل بيانات البطاقة في الشركة السعودية للمعلومات الائتمانية \"سمة\"؟    هل من حق البنك ان ادراج  تفاصيل بيانات البطاقة في الشركة السعودية للمعلومات الائتمانية \"سمة\" عند منحها للعميل؟ \n",
            "\n",
            "Manhatan distance = 24.192997  \n",
            " هل يحق للتجار الذين لديهم نقاط بيع إضافة مبلغ 2.5٪ كرسوم بيع لمبلغ العملة الشرائية؟    هل يمكن للتجار  بيع إضافة مبلغ 2.5٪ كرسوم بيع لمبلغ العملة الشرائية الذين لديهم نقاط ؟ \n",
            "\n",
            "Manhatan distance = 37.242588  \n",
            " ما مدى مسئولية البنك تجاه العمليات المشبوهة أو العمليات التي تتم عن طريق البطاقات المستنسخة بياناتها؟    الى مدى البنك مسئول عن  العمليات التي تتم عن طريق البطاقات المستنسخة بياناتها او  العمليات المشبوه؟ \n",
            "\n",
            "Manhatan distance = 54.19292  \n",
            " ما هي فوائد استخدام بطاقة الائتمان؟    ما هي الفائدة الناتجة من استخدام بطاقة الائتمان؟ \n",
            "\n",
            "Manhatan distance = 56.440914  \n",
            " ما هي أفضل النصائح للحد من عمليات الاحتيال وإساءة استخدام بطاقة الائتمان؟    ايه هي افضل نصيحة  للتقليل من  إساءة استخدام بطاقة الائتمان و عمليات الاحتيال؟ \n",
            "\n",
            "Manhatan distance = 73.33548  \n",
            " ما هي أفضل النصائح لمساعدة الشخص في إدارة أموره المالية بطريقة سليمة؟\n",
            "    ايه هي افضل نصيحة  لتقديم لمساعدة  في إدارة أموره المالية بطريق صحيحة؟ \n",
            "\n",
            "Manhatan distance = 57.29782  \n",
            " هل هناك مدة محددة ومعينة لإصدار إخلاء الطرف من البنوك؟    هل توجد فترة معينة لإخلاء الطرف من البنوك؟ \n",
            "\n",
            "Manhatan distance = 41.802906  \n",
            " ما هو الإجراء المتخذ من البنك المركزي السعودي تجاه البنوك التي ترفض إصدار خطاب إخلاء الطرف؟    ايه هي الإجراءات من البنك المركزى السعودى  تجاه البنوك التي ترفض  ان تصدر خطابات إخلاء الطرف؟ \n",
            "\n",
            "Manhatan distance = 38.09561  \n",
            " هل تقوم بعض البنوك بطلب إيداع مبلغ يعادل حد البطاقة الائتمانية لإصدار خطاب إخلاء الطرف؟    هل  البنوك  تطلب إيداع مبلغ يعادل حد البطاقة الائتمانية لكى تصدر خطاب إخلاء الطرف؟ \n",
            "\n",
            "Manhatan distance = 43.588978  \n",
            " هل لإخلاء الطرف مدة صلاحية معينة؟    هل يوجد مدة صلاحية معينة لإخلاء الطرف؟ \n",
            "\n",
            "Manhatan distance = 61.562355  \n",
            " من هو المعرف الشخصي للمرأة المحجبة؟    ايه هو المعرف الشخصي للمرأة المحجبة؟ \n",
            "\n",
            "Manhatan distance = 16.622646  \n",
            " هل ترفض بعض البنوك قبول صورة الأوراق الثبوتية كصورة بطاقة الهوية الوطنية  ؟         هل  بعض البنوك  ترفض  قبول صورة الأوراق الثبوتية كصورة بطاقة الهوية الوطنية؟ \n",
            "\n",
            "Manhatan distance = 36.66377  \n",
            " ما الفرق بين رقم الحساب البنكي و رقم الآيبان (IPAN)؟                   ايه الفرق بين  رقم الآيبان (IPAN)  و  رقم الحساب البنكي؟ \n",
            "\n",
            "Manhatan distance = 44.26322  \n",
            " هل يحق للبنوك تحصيل رسوم إدارية على الحوالات التي تتم عبر القنوات البنكية؟                 هل حق البنوك ان تحصل  رسوم إدارية على الحوالات التي تتم عبر القنوات البنكية؟    \n",
            "\n",
            "Manhatan distance = 60.32998  \n",
            " هل يحق للبنوك تحصيل رسوم إدارية على القروض الشخصية؟                   هل حق البنك  ان يحصل  رسوم إدارية على القروض الشخصية؟  \n",
            "\n",
            "Manhatan distance = 57.226055  \n",
            " هل يحق للبنوك رفض منح قروض شخصية تزيد فترة السداد عن خمس سنوات (60 شهراً)؟                 هل من حق البنك ان  يرفض منح قروض شخصية  اذا  زادت فترة السداد عن خمس سنوات؟ \n",
            "\n",
            "Manhatan distance = 51.43804  \n",
            " هل يحق للبنوك رفض استقطاع أكثر من ثلث راتب الموظف وربع راتب المتقاعد شهرياً لصالح القروض الشخصية؟                    هل  من حق البنك ان يرفض  قطع  أكثر من ربع راتب المتقاعد  و ثلث راتب الموظف و شهرياً لصالح القروض الشخصية؟  \n",
            "\n",
            "Manhatan distance = 60.09925  \n",
            " هل يحق للبنوك حجز مبالغ مكافأة نهاية الخدمة لصالح المديونيات القائمة على العملاء؟                       هل  يمكن للبنك ان يحجز مبلغ   مكافأة نهاية الخدمة من اجل المديونيات القائمة على العملاء؟   \n",
            "\n",
            "Manhatan distance = 44.616177  \n",
            " هل يحق للبنوك في حالة السداد المبكر للقروض الشخصية مطالبة العميل بسداد أصل القرض مع كلفة الأجل؟                     هل من حق البنك  ان يطالب العميل   بسداد أصل القرض مع كلفة الأجل  ي حالة السداد المبكر للقروض الشخصية؟ \n",
            "\n",
            "Manhatan distance = 71.88487  \n",
            " هل يحق للبنك رفض منح العميل قرض شخصي؟        هل من حق  البنك ان يرفض منح قرض شخصى للعميل؟ \n",
            "\n",
            "Manhatan distance = 27.995789  \n",
            " هل يحق للبنك عند منح العميل قرض شخصي تسجيل تفاصيل بيانات القرض في الشركة السعودية للمعلومات الائتمانية \"سمة\"؟                             هل من  حق البنك تسجيل تفاصيل بيانات القرض في الشركة السعودية للمعلومات الائتمانية \"سمة\" عند منح قرض شخصى للعميل؟ \n",
            "\n",
            "Manhatan distance = 60.37625  \n",
            " هل يحق للعميل الذي لديه قرض شخصي من البنك طلب قرض جديد من البنك؟                 هل يمكن للعميل   الذي لديه قرض شخصي من البنك المطالبة  بقرض جديد ؟    \n",
            "\n",
            "Manhatan distance = 56.314003  \n",
            " هل يحق للبنك خصم القسط الشهري قبل الموعد المتفق عليه لخصم القسط الشهري؟                هل من حق البنك  ان يخصم   القسط الشهري قبل الموعد المتفق عليه ؟ \n",
            "\n",
            "Manhatan distance = 99.21667  \n",
            " ما هي نظم الدفع؟    ايه هي أنظمة الدفع؟ \n",
            "\n",
            "Manhatan distance = 72.3524  \n",
            " ما أهداف البنك المركزي المتعلقة بنظم الدفع؟    ايه هي اهداف البنك المركزى الخاصة بانظمة الدفع؟ \n",
            "\n",
            "Manhatan distance = 66.48156  \n",
            " ما  هو دور البنك المركزي فيما يتعلق بنظام المدفوعات القومي؟                  ايه هو  دور البنك المركزى المتعلق بنظم الدفع القومى؟ \n",
            "\n",
            "Manhatan distance = 56.921684  \n",
            " ما هي أهم مزايا الخدمات المصرفية عبر الانترنت؟               ايه هي اهم  مميزات الخدمات  المصرفية عبر الانترنت؟   \n",
            "\n",
            "Manhatan distance = 33.34781  \n",
            " هل يدفع رسوما مقابل  الخدمات المصرفية عبر الانترنت ؟       هل يمكن دفع  رسوم  مقابل  الخدمات المصرفية عبر الانترنت ؟ \n",
            "\n",
            "Manhatan distance = 30.945595  \n",
            " هل يدفع رسوما عند التسجيل للحصول على  الخدمات المصرفية عبر الانترنت؟            هل يمكن دفع الرسوم  عبر الانترنت عند التسجيل للحصول على  الخدمات المصرفية ؟ \n",
            "\n",
            "Manhatan distance = 29.158072  \n",
            " هل خدمات البنك التجاري المصرفية عبر الانترنت آمنة؟            هل  امنة  خدمات البنك التجاري المصرفية عبر الانترنت؟ \n",
            "\n",
            "Manhatan distance = 62.87126  \n",
            " ما هي أهم مزايا الخدمات المصرفية عبر الجوال؟       ايه  هي  اهم مميزات  الخدمات المصرفية عبر الجوال؟ \n",
            "\n",
            "Manhatan distance = 58.788986  \n",
            " هل أحتاج إلى انترنت للحصول على الخدمات المصرفية عبر الجوال؟        هل لازم انترنت لأحصل  على الخدمات المصرفية عبر الجوال؟ \n",
            "\n",
            "Manhatan distance = 67.41214  \n",
            " ما هي عمليات دعم أو قروض سياسات التنمية؟       ايه  عمليات قروض او دعم  سياسات التنمية؟  \n",
            "\n",
            "Manhatan distance = 55.4271  \n",
            " ما هي شروط القرض الثاني لسياسات التنمية وكيف يتم صرفه؟         ايه  هي شروط  و كيف يتم صرف   القرض الثاني لسياسات التنمية؟ \n",
            "\n",
            "Manhatan distance = 66.749466  \n",
            " ما هي التغيرات في السياسة النقدية وسعر الصرف؟               ايه هي التغيرات  في سعر الصرف و الساياسة النقدية؟ \n",
            "\n",
            "Manhatan distance = 52.036148  \n",
            " كيف يتعامل صندوق النقد الدولي مع مشاكل الفساد؟ كيف يمكن ضمان استخدام أموال القرض للأغراض المقصودة؟              ازاى يتم التعامل بين صندوق النقد الدولي و مشاكل الفساد ؟  كيف يضمن   استخدام أموال القرض للأغراض  المقصودة؟  \n",
            "\n",
            "Manhatan distance = 62.27488  \n",
            " كيف يمكن تبادل وجهات النظر حول مشاركة صندوق النقد الدولي؟         ازاى يتم تبادل  وجهه النظر  في  مشاركة صندوق النقد الدولي؟ \n",
            "\n",
            "Manhatan distance = 80.67026  \n",
            " ماذا يعنى مفهوم الشمول المالى؟     ما هو  مفهوم الشمول المالى؟ \n",
            "\n",
            "Average distance using Manhatan distance= 55.16600453123755\n"
          ]
        }
      ]
    },
    {
      "cell_type": "markdown",
      "source": [
        "###  Euclidean distance"
      ],
      "metadata": {
        "id": "sRdNT8aEZpsf"
      }
    },
    {
      "cell_type": "code",
      "source": [
        "Eucl_distances=[]\n",
        "for i in range(len(data_created)):\n",
        "    embedding_11=nlp(str(data_created.iloc[i][0])).vector\n",
        "    embedding_22=nlp(str(data_created.iloc[i][2])).vector\n",
        "    dst = distance.euclidean(embedding_11,embedding_22)\n",
        "    print(\"Euclidean distance =\",dst, \" \\n\",data_created.iloc[i][0], \"  \",data_created.iloc[i][2],\"\\n\")\n",
        "    Eucl_distances.append(dst)\n",
        "#     print(data_created.iloc[i][0],\" Manhatan Distance:\",cosine_scores)\n",
        "\n",
        "\n",
        "eucl_score=sum(Eucl_distances)/len(data_created)\n",
        "print(\"Average distance using Euclidean distance=\",eucl_score)"
      ],
      "metadata": {
        "colab": {
          "base_uri": "https://localhost:8080/"
        },
        "id": "46iq0rSmZuXf",
        "outputId": "500cf4d6-63b0-402d-9d47-b0dce9a68445"
      },
      "execution_count": 14,
      "outputs": [
        {
          "output_type": "stream",
          "name": "stdout",
          "text": [
            "Euclidean distance = 4.687132358551025  \n",
            " ما هو هدف السياسة النقدية ؟     ايه هو هدف السياسة النقدية؟ \n",
            "\n",
            "Euclidean distance = 6.7708611488342285  \n",
            " ماذا يفعل البنك المركزى المصرى حتى يتحول إلى نظام مكتمل الملامح لإستهداف التضخم (Inflation Targeting Regime) ؟    كيف يمكن يتحول البنك المركزى الى نظام مكتمل؟ \n",
            "\n",
            "Euclidean distance = 4.665406227111816  \n",
            " كيف تقرر لجنة السياسة النقدية أسعار العائد ؟    ازاى تقرر لجنة السياسات النقدية سعر العائد؟ \n",
            "\n",
            "Euclidean distance = 4.252400875091553  \n",
            " ما هى لجنة السياسة النقدية ؟     ما هى لجنة السياسات النقدية؟ \n",
            "\n",
            "Euclidean distance = 2.734492063522339  \n",
            " ما هو دور البنك المركزي السعودي في تنظيم علاقة البنوك وشركات التأمين وشركات التمويل مع عملاءه؟    ايه هو دور البنك المركزى السعودى في تنظيم العلاقات بين البنوك  و شركات التمويل مع العملاء و شركات التامين ؟  \n",
            "\n",
            "Euclidean distance = 3.7046937942504883  \n",
            " ما هي آلية استقبال شكاوى العملاء في البنك المركزي السعودي؟\n",
            "    ما هي طريقة استقبال الشكاوى من العملاء في البنك المركزى السعودى؟ \n",
            "\n",
            "Euclidean distance = 3.6979286670684814  \n",
            " ما هي قنوات استقبال الشكاوى في البنك المركزي السعودي؟    ايه هي طرق استقبال الشكاوى في البنك المركزى السعودى؟ \n",
            "\n",
            "Euclidean distance = 4.255470275878906  \n",
            " هل يحق للبنك أخذ رسوم إصدار بطاقات الصرف الآلي؟    هل يعتبر حق البنك في اخذ رسوم اصدار بطاقات الصرف؟ \n",
            "\n",
            "Euclidean distance = 5.931446075439453  \n",
            " هل يحق للبنك المطالبة بسداد مستحقات البطاقات الائتمانية بالكامل؟    هل من حق البنك ان يطالب بسداد مستحقات البطاقة الائتمانية؟ \n",
            "\n",
            "Euclidean distance = 4.333242416381836  \n",
            " هل يحق للبنك خصم مستحقات البطاقات الائتمانية من حساب العميل مباشرة؟    هل من حق البنك ان يخصم مستحقات البطاقة الائتمانية من حسابات العملاء مباشرة؟ \n",
            "\n",
            "Euclidean distance = 4.749857425689697  \n",
            " هل يحق للبنك رفض إصدار ومنح العميل بطاقة ائتمانية؟    هل يمكن للبنك  ان يرفض منح و اصدار البطاقة الائتمانية للعميل؟ \n",
            "\n",
            "Euclidean distance = 3.2507846355438232  \n",
            " هل يحق للبنك عند منح العميل بطاقة ائتمانية إدراج تفاصيل بيانات البطاقة في الشركة السعودية للمعلومات الائتمانية \"سمة\"؟    هل من حق البنك ان ادراج  تفاصيل بيانات البطاقة في الشركة السعودية للمعلومات الائتمانية \"سمة\" عند منحها للعميل؟ \n",
            "\n",
            "Euclidean distance = 1.7562204599380493  \n",
            " هل يحق للتجار الذين لديهم نقاط بيع إضافة مبلغ 2.5٪ كرسوم بيع لمبلغ العملة الشرائية؟    هل يمكن للتجار  بيع إضافة مبلغ 2.5٪ كرسوم بيع لمبلغ العملة الشرائية الذين لديهم نقاط ؟ \n",
            "\n",
            "Euclidean distance = 2.6773884296417236  \n",
            " ما مدى مسئولية البنك تجاه العمليات المشبوهة أو العمليات التي تتم عن طريق البطاقات المستنسخة بياناتها؟    الى مدى البنك مسئول عن  العمليات التي تتم عن طريق البطاقات المستنسخة بياناتها او  العمليات المشبوه؟ \n",
            "\n",
            "Euclidean distance = 3.9760029315948486  \n",
            " ما هي فوائد استخدام بطاقة الائتمان؟    ما هي الفائدة الناتجة من استخدام بطاقة الائتمان؟ \n",
            "\n",
            "Euclidean distance = 4.1501240730285645  \n",
            " ما هي أفضل النصائح للحد من عمليات الاحتيال وإساءة استخدام بطاقة الائتمان؟    ايه هي افضل نصيحة  للتقليل من  إساءة استخدام بطاقة الائتمان و عمليات الاحتيال؟ \n",
            "\n",
            "Euclidean distance = 5.487576961517334  \n",
            " ما هي أفضل النصائح لمساعدة الشخص في إدارة أموره المالية بطريقة سليمة؟\n",
            "    ايه هي افضل نصيحة  لتقديم لمساعدة  في إدارة أموره المالية بطريق صحيحة؟ \n",
            "\n",
            "Euclidean distance = 4.140192985534668  \n",
            " هل هناك مدة محددة ومعينة لإصدار إخلاء الطرف من البنوك؟    هل توجد فترة معينة لإخلاء الطرف من البنوك؟ \n",
            "\n",
            "Euclidean distance = 3.0549535751342773  \n",
            " ما هو الإجراء المتخذ من البنك المركزي السعودي تجاه البنوك التي ترفض إصدار خطاب إخلاء الطرف؟    ايه هي الإجراءات من البنك المركزى السعودى  تجاه البنوك التي ترفض  ان تصدر خطابات إخلاء الطرف؟ \n",
            "\n",
            "Euclidean distance = 2.6530981063842773  \n",
            " هل تقوم بعض البنوك بطلب إيداع مبلغ يعادل حد البطاقة الائتمانية لإصدار خطاب إخلاء الطرف؟    هل  البنوك  تطلب إيداع مبلغ يعادل حد البطاقة الائتمانية لكى تصدر خطاب إخلاء الطرف؟ \n",
            "\n",
            "Euclidean distance = 3.143007755279541  \n",
            " هل لإخلاء الطرف مدة صلاحية معينة؟    هل يوجد مدة صلاحية معينة لإخلاء الطرف؟ \n",
            "\n",
            "Euclidean distance = 4.338919639587402  \n",
            " من هو المعرف الشخصي للمرأة المحجبة؟    ايه هو المعرف الشخصي للمرأة المحجبة؟ \n",
            "\n",
            "Euclidean distance = 1.206217885017395  \n",
            " هل ترفض بعض البنوك قبول صورة الأوراق الثبوتية كصورة بطاقة الهوية الوطنية  ؟         هل  بعض البنوك  ترفض  قبول صورة الأوراق الثبوتية كصورة بطاقة الهوية الوطنية؟ \n",
            "\n",
            "Euclidean distance = 2.6940150260925293  \n",
            " ما الفرق بين رقم الحساب البنكي و رقم الآيبان (IPAN)؟                   ايه الفرق بين  رقم الآيبان (IPAN)  و  رقم الحساب البنكي؟ \n",
            "\n",
            "Euclidean distance = 3.219794273376465  \n",
            " هل يحق للبنوك تحصيل رسوم إدارية على الحوالات التي تتم عبر القنوات البنكية؟                 هل حق البنوك ان تحصل  رسوم إدارية على الحوالات التي تتم عبر القنوات البنكية؟    \n",
            "\n",
            "Euclidean distance = 4.377113342285156  \n",
            " هل يحق للبنوك تحصيل رسوم إدارية على القروض الشخصية؟                   هل حق البنك  ان يحصل  رسوم إدارية على القروض الشخصية؟  \n",
            "\n",
            "Euclidean distance = 4.191317558288574  \n",
            " هل يحق للبنوك رفض منح قروض شخصية تزيد فترة السداد عن خمس سنوات (60 شهراً)؟                 هل من حق البنك ان  يرفض منح قروض شخصية  اذا  زادت فترة السداد عن خمس سنوات؟ \n",
            "\n",
            "Euclidean distance = 3.66085147857666  \n",
            " هل يحق للبنوك رفض استقطاع أكثر من ثلث راتب الموظف وربع راتب المتقاعد شهرياً لصالح القروض الشخصية؟                    هل  من حق البنك ان يرفض  قطع  أكثر من ربع راتب المتقاعد  و ثلث راتب الموظف و شهرياً لصالح القروض الشخصية؟  \n",
            "\n",
            "Euclidean distance = 4.349206447601318  \n",
            " هل يحق للبنوك حجز مبالغ مكافأة نهاية الخدمة لصالح المديونيات القائمة على العملاء؟                       هل  يمكن للبنك ان يحجز مبلغ   مكافأة نهاية الخدمة من اجل المديونيات القائمة على العملاء؟   \n",
            "\n",
            "Euclidean distance = 3.2646119594573975  \n",
            " هل يحق للبنوك في حالة السداد المبكر للقروض الشخصية مطالبة العميل بسداد أصل القرض مع كلفة الأجل؟                     هل من حق البنك  ان يطالب العميل   بسداد أصل القرض مع كلفة الأجل  ي حالة السداد المبكر للقروض الشخصية؟ \n",
            "\n",
            "Euclidean distance = 5.157876968383789  \n",
            " هل يحق للبنك رفض منح العميل قرض شخصي؟        هل من حق  البنك ان يرفض منح قرض شخصى للعميل؟ \n",
            "\n",
            "Euclidean distance = 2.0301032066345215  \n",
            " هل يحق للبنك عند منح العميل قرض شخصي تسجيل تفاصيل بيانات القرض في الشركة السعودية للمعلومات الائتمانية \"سمة\"؟                             هل من  حق البنك تسجيل تفاصيل بيانات القرض في الشركة السعودية للمعلومات الائتمانية \"سمة\" عند منح قرض شخصى للعميل؟ \n",
            "\n",
            "Euclidean distance = 4.262828350067139  \n",
            " هل يحق للعميل الذي لديه قرض شخصي من البنك طلب قرض جديد من البنك؟                 هل يمكن للعميل   الذي لديه قرض شخصي من البنك المطالبة  بقرض جديد ؟    \n",
            "\n",
            "Euclidean distance = 4.094473838806152  \n",
            " هل يحق للبنك خصم القسط الشهري قبل الموعد المتفق عليه لخصم القسط الشهري؟                هل من حق البنك  ان يخصم   القسط الشهري قبل الموعد المتفق عليه ؟ \n",
            "\n",
            "Euclidean distance = 7.190145015716553  \n",
            " ما هي نظم الدفع؟    ايه هي أنظمة الدفع؟ \n",
            "\n",
            "Euclidean distance = 5.194033145904541  \n",
            " ما أهداف البنك المركزي المتعلقة بنظم الدفع؟    ايه هي اهداف البنك المركزى الخاصة بانظمة الدفع؟ \n",
            "\n",
            "Euclidean distance = 4.7532877922058105  \n",
            " ما  هو دور البنك المركزي فيما يتعلق بنظام المدفوعات القومي؟                  ايه هو  دور البنك المركزى المتعلق بنظم الدفع القومى؟ \n",
            "\n",
            "Euclidean distance = 4.11824893951416  \n",
            " ما هي أهم مزايا الخدمات المصرفية عبر الانترنت؟               ايه هي اهم  مميزات الخدمات  المصرفية عبر الانترنت؟   \n",
            "\n",
            "Euclidean distance = 2.425645351409912  \n",
            " هل يدفع رسوما مقابل  الخدمات المصرفية عبر الانترنت ؟       هل يمكن دفع  رسوم  مقابل  الخدمات المصرفية عبر الانترنت ؟ \n",
            "\n",
            "Euclidean distance = 2.2499847412109375  \n",
            " هل يدفع رسوما عند التسجيل للحصول على  الخدمات المصرفية عبر الانترنت؟            هل يمكن دفع الرسوم  عبر الانترنت عند التسجيل للحصول على  الخدمات المصرفية ؟ \n",
            "\n",
            "Euclidean distance = 2.09858775138855  \n",
            " هل خدمات البنك التجاري المصرفية عبر الانترنت آمنة؟            هل  امنة  خدمات البنك التجاري المصرفية عبر الانترنت؟ \n",
            "\n",
            "Euclidean distance = 4.526706218719482  \n",
            " ما هي أهم مزايا الخدمات المصرفية عبر الجوال؟       ايه  هي  اهم مميزات  الخدمات المصرفية عبر الجوال؟ \n",
            "\n",
            "Euclidean distance = 4.286585330963135  \n",
            " هل أحتاج إلى انترنت للحصول على الخدمات المصرفية عبر الجوال؟        هل لازم انترنت لأحصل  على الخدمات المصرفية عبر الجوال؟ \n",
            "\n",
            "Euclidean distance = 4.910590648651123  \n",
            " ما هي عمليات دعم أو قروض سياسات التنمية؟       ايه  عمليات قروض او دعم  سياسات التنمية؟  \n",
            "\n",
            "Euclidean distance = 3.969951868057251  \n",
            " ما هي شروط القرض الثاني لسياسات التنمية وكيف يتم صرفه؟         ايه  هي شروط  و كيف يتم صرف   القرض الثاني لسياسات التنمية؟ \n",
            "\n",
            "Euclidean distance = 4.687937259674072  \n",
            " ما هي التغيرات في السياسة النقدية وسعر الصرف؟               ايه هي التغيرات  في سعر الصرف و الساياسة النقدية؟ \n",
            "\n",
            "Euclidean distance = 3.7320919036865234  \n",
            " كيف يتعامل صندوق النقد الدولي مع مشاكل الفساد؟ كيف يمكن ضمان استخدام أموال القرض للأغراض المقصودة؟              ازاى يتم التعامل بين صندوق النقد الدولي و مشاكل الفساد ؟  كيف يضمن   استخدام أموال القرض للأغراض  المقصودة؟  \n",
            "\n",
            "Euclidean distance = 4.535956382751465  \n",
            " كيف يمكن تبادل وجهات النظر حول مشاركة صندوق النقد الدولي؟         ازاى يتم تبادل  وجهه النظر  في  مشاركة صندوق النقد الدولي؟ \n",
            "\n",
            "Euclidean distance = 5.796656608581543  \n",
            " ماذا يعنى مفهوم الشمول المالى؟     ما هو  مفهوم الشمول المالى؟ \n",
            "\n",
            "Average distance using Euclidean distance= 3.9876738811025816\n"
          ]
        }
      ]
    },
    {
      "cell_type": "markdown",
      "source": [
        "## Visualization Result"
      ],
      "metadata": {
        "id": "Oc_EUgeIdRtg"
      }
    },
    {
      "cell_type": "markdown",
      "source": [
        "### Correlation Metrics"
      ],
      "metadata": {
        "id": "elx54FY4g4E_"
      }
    },
    {
      "cell_type": "code",
      "source": [
        "import numpy as np\n",
        "import matplotlib.pyplot as plt\n",
        " \n",
        "  \n",
        "# creating the dataset\n",
        "\n",
        "x_axis=[\"Cosine Similarity\",\"Pearsons Correlation\",\"Euclidean Correaltion\"]\n",
        "values=[round(cosine_score,4)*100, round(pears_score,4)*100 ,round(spear_score,4) *100]\n",
        "  \n",
        "fig = plt.figure(figsize = (10, 5))\n",
        "\n",
        "for i in range(len(values)):\n",
        "    plt.text(i, values[i], values[i], ha = 'center')\n",
        "    \n",
        "# creating the bar plot\n",
        "plt.bar(x_axis, values, color ='orange',\n",
        "        width = 0.4)\n",
        " \n",
        "plt.xlabel(\"Corrleation Metrics\")\n",
        "plt.ylabel(\"Average Simialrity\")\n",
        "plt.title(\"Aravec Model Corrleation Metrics Comparison\")\n",
        "plt.show()"
      ],
      "metadata": {
        "colab": {
          "base_uri": "https://localhost:8080/",
          "height": 350
        },
        "id": "zFlABbQwdXFv",
        "outputId": "ac477755-2d15-4e0a-ae4d-af0c04831e8a"
      },
      "execution_count": 23,
      "outputs": [
        {
          "output_type": "display_data",
          "data": {
            "text/plain": [
              "<Figure size 720x360 with 1 Axes>"
            ],
            "image/png": "[encoded data removed]"
          },
          "metadata": {
            "needs_background": "light"
          }
        }
      ]
    },
    {
      "cell_type": "markdown",
      "source": [
        "### Distance Metrics"
      ],
      "metadata": {
        "id": "OwFfKwucg-sm"
      }
    },
    {
      "cell_type": "code",
      "source": [
        "import numpy as np\n",
        "import matplotlib.pyplot as plt\n",
        " \n",
        "  \n",
        "# creating the dataset\n",
        "\n",
        "x_axis=[\"Manhatan Distance\",\"Euclidean Distance\"]\n",
        "values=[round(manh_score,3),round(eucl_score,3)]\n",
        "  \n",
        "fig = plt.figure(figsize = (10, 5))\n",
        "for i in range(len(values)):\n",
        "  plt.text(i, values[i], values[i], ha = 'center')\n",
        "# creating the bar plot\n",
        "plt.bar(x_axis, values, color ='orange',\n",
        "        width = 0.4)\n",
        " \n",
        "plt.xlabel(\"Distance Metrics\")\n",
        "plt.ylabel(\"Average Distance\")\n",
        "plt.title(\"Aravec Model Distance Metrics Comparison\")\n",
        "plt.show()"
      ],
      "metadata": {
        "colab": {
          "base_uri": "https://localhost:8080/",
          "height": 350
        },
        "id": "67U38PFjfd8Q",
        "outputId": "7c2bc1b4-8e95-498c-ded9-2e540544b1d3"
      },
      "execution_count": 20,
      "outputs": [
        {
          "output_type": "display_data",
          "data": {
            "text/plain": [
              "<Figure size 720x360 with 1 Axes>"
            ],
            "image/png": "[encoded data removed]"
          },
          "metadata": {
            "needs_background": "light"
          }
        }
      ]
    },
    {
      "cell_type": "markdown",
      "source": [
        "# Error Analysis:"
      ],
      "metadata": {
        "id": "Qwspv3BaC7Eh"
      }
    },
    {
      "cell_type": "markdown",
      "source": [
        "##  Question in Database"
      ],
      "metadata": {
        "id": "a0_v-zW7Aab9"
      }
    },
    {
      "cell_type": "code",
      "source": [
        "data_created.iloc[30][0]"
      ],
      "metadata": {
        "colab": {
          "base_uri": "https://localhost:8080/",
          "height": 36
        },
        "id": "oCsSBxZjA5Dn",
        "outputId": "bc4dc62a-ebe1-4bff-c00c-7a94f689a6cd"
      },
      "execution_count": 14,
      "outputs": [
        {
          "output_type": "execute_result",
          "data": {
            "text/plain": [
              "'هل يحق للبنك رفض منح العميل قرض شخصي؟  '"
            ],
            "application/vnd.google.colaboratory.intrinsic+json": {
              "type": "string"
            }
          },
          "metadata": {},
          "execution_count": 14
        }
      ]
    },
    {
      "cell_type": "markdown",
      "source": [
        "### A change in the wording of the question but the same meaning"
      ],
      "metadata": {
        "id": "kWRxzHrvBEQu"
      }
    },
    {
      "cell_type": "code",
      "source": [
        "tst=\"هل يمكن للبنك ان يرفض منح العملاء قروض شخصية؟\""
      ],
      "metadata": {
        "id": "qRSwYp16BFRC"
      },
      "execution_count": 15,
      "outputs": []
    },
    {
      "cell_type": "markdown",
      "source": [
        "### Test"
      ],
      "metadata": {
        "id": "QzZPbBXyCNJY"
      }
    },
    {
      "cell_type": "code",
      "source": [
        "accuracies=[]\n",
        "for i in range(len(data_created)):\n",
        "    cosine_scores = nlp(str(data_created.iloc[i][0])).similarity(nlp(tst))\n",
        "    \n",
        "    accuracies.append(cosine_scores)\n",
        "    print(\" Score:\",cosine_scores,data_created.iloc[i][0])\n"
      ],
      "metadata": {
        "colab": {
          "base_uri": "https://localhost:8080/"
        },
        "id": "S7VELpvACQPw",
        "outputId": "faf1d16b-c729-497c-a058-45255e2af649"
      },
      "execution_count": 20,
      "outputs": [
        {
          "output_type": "stream",
          "name": "stdout",
          "text": [
            " Score: 0.7507704270961684 ما هو هدف السياسة النقدية ؟ \n",
            " Score: 0.7966724643319357 ماذا يفعل البنك المركزى المصرى حتى يتحول إلى نظام مكتمل الملامح لإستهداف التضخم (Inflation Targeting Regime) ؟\n",
            " Score: 0.7446913433447089 كيف تقرر لجنة السياسة النقدية أسعار العائد ؟\n",
            " Score: 0.7527298834270331 ما هى لجنة السياسة النقدية ؟\n",
            " Score: 0.8461231669393066 ما هو دور البنك المركزي السعودي في تنظيم علاقة البنوك وشركات التأمين وشركات التمويل مع عملاءه؟\n",
            " Score: 0.843596300144332 ما هي آلية استقبال شكاوى العملاء في البنك المركزي السعودي؟\n",
            "\n",
            " Score: 0.8265912816758636 ما هي قنوات استقبال الشكاوى في البنك المركزي السعودي؟\n",
            " Score: 0.8052396383545379 هل يحق للبنك أخذ رسوم إصدار بطاقات الصرف الآلي؟\n",
            " Score: 0.8030011928897792 هل يحق للبنك المطالبة بسداد مستحقات البطاقات الائتمانية بالكامل؟\n",
            " Score: 0.8641325351687292 هل يحق للبنك خصم مستحقات البطاقات الائتمانية من حساب العميل مباشرة؟\n",
            " Score: 0.856164151433768 هل يحق للبنك رفض إصدار ومنح العميل بطاقة ائتمانية؟\n",
            " Score: 0.8431086880019744 هل يحق للبنك عند منح العميل بطاقة ائتمانية إدراج تفاصيل بيانات البطاقة في الشركة السعودية للمعلومات الائتمانية \"سمة\"؟\n",
            " Score: 0.7884894007388827 هل يحق للتجار الذين لديهم نقاط بيع إضافة مبلغ 2.5٪ كرسوم بيع لمبلغ العملة الشرائية؟\n",
            " Score: 0.7999973708733321 ما مدى مسئولية البنك تجاه العمليات المشبوهة أو العمليات التي تتم عن طريق البطاقات المستنسخة بياناتها؟\n",
            " Score: 0.7906667257249232 ما هي فوائد استخدام بطاقة الائتمان؟\n",
            " Score: 0.815597695722866 ما هي أفضل النصائح للحد من عمليات الاحتيال وإساءة استخدام بطاقة الائتمان؟\n",
            " Score: 0.7985892134359281 ما هي أفضل النصائح لمساعدة الشخص في إدارة أموره المالية بطريقة سليمة؟\n",
            "\n",
            " Score: 0.8564564580986933 هل هناك مدة محددة ومعينة لإصدار إخلاء الطرف من البنوك؟\n",
            " Score: 0.8499511574475013 ما هو الإجراء المتخذ من البنك المركزي السعودي تجاه البنوك التي ترفض إصدار خطاب إخلاء الطرف؟\n",
            " Score: 0.8049439538372464 هل تقوم بعض البنوك بطلب إيداع مبلغ يعادل حد البطاقة الائتمانية لإصدار خطاب إخلاء الطرف؟\n",
            " Score: 0.7945982573517416 هل لإخلاء الطرف مدة صلاحية معينة؟\n",
            " Score: 0.7418966237962561 من هو المعرف الشخصي للمرأة المحجبة؟\n",
            " Score: 0.8122051248065497 هل ترفض بعض البنوك قبول صورة الأوراق الثبوتية كصورة بطاقة الهوية الوطنية  ؟     \n",
            " Score: 0.7034929169911422 ما الفرق بين رقم الحساب البنكي و رقم الآيبان (IPAN)؟           \n",
            " Score: 0.8041511027458592 هل يحق للبنوك تحصيل رسوم إدارية على الحوالات التي تتم عبر القنوات البنكية؟           \n",
            " Score: 0.862985425555385 هل يحق للبنوك تحصيل رسوم إدارية على القروض الشخصية؟               \n",
            " Score: 0.8543107857183405 هل يحق للبنوك رفض منح قروض شخصية تزيد فترة السداد عن خمس سنوات (60 شهراً)؟            \n",
            " Score: 0.839630006887242 هل يحق للبنوك رفض استقطاع أكثر من ثلث راتب الموظف وربع راتب المتقاعد شهرياً لصالح القروض الشخصية؟           \n",
            " Score: 0.8428222622863438 هل يحق للبنوك حجز مبالغ مكافأة نهاية الخدمة لصالح المديونيات القائمة على العملاء؟                  \n",
            " Score: 0.8583384757646325 هل يحق للبنوك في حالة السداد المبكر للقروض الشخصية مطالبة العميل بسداد أصل القرض مع كلفة الأجل؟               \n",
            " Score: 0.885725086030689 هل يحق للبنك رفض منح العميل قرض شخصي؟  \n",
            " Score: 0.8721335913216819 هل يحق للبنك عند منح العميل قرض شخصي تسجيل تفاصيل بيانات القرض في الشركة السعودية للمعلومات الائتمانية \"سمة\"؟                       \n",
            " Score: 0.8773319501215062 هل يحق للعميل الذي لديه قرض شخصي من البنك طلب قرض جديد من البنك؟           \n",
            " Score: 0.7529575282166582 هل يحق للبنك خصم القسط الشهري قبل الموعد المتفق عليه لخصم القسط الشهري؟            \n",
            " Score: 0.7594451537364594 ما هي نظم الدفع؟\n",
            " Score: 0.7653962486302798 ما أهداف البنك المركزي المتعلقة بنظم الدفع؟\n",
            " Score: 0.8043238882294299 ما  هو دور البنك المركزي فيما يتعلق بنظام المدفوعات القومي؟           \n",
            " Score: 0.7712532627284231 ما هي أهم مزايا الخدمات المصرفية عبر الانترنت؟           \n",
            " Score: 0.7896018327284859 هل يدفع رسوما مقابل  الخدمات المصرفية عبر الانترنت ؟ \n",
            " Score: 0.806715363589318 هل يدفع رسوما عند التسجيل للحصول على  الخدمات المصرفية عبر الانترنت؟       \n",
            " Score: 0.7525634826803694 هل خدمات البنك التجاري المصرفية عبر الانترنت آمنة؟        \n",
            " Score: 0.7592620109132616 ما هي أهم مزايا الخدمات المصرفية عبر الجوال؟   \n",
            " Score: 0.800481618677497 هل أحتاج إلى انترنت للحصول على الخدمات المصرفية عبر الجوال؟  \n",
            " Score: 0.8631790711943012 ما هي عمليات دعم أو قروض سياسات التنمية؟   \n",
            " Score: 0.8330102527131465 ما هي شروط القرض الثاني لسياسات التنمية وكيف يتم صرفه؟   \n",
            " Score: 0.7627258918170142 ما هي التغيرات في السياسة النقدية وسعر الصرف؟         \n",
            " Score: 0.8611465073238233 كيف يتعامل صندوق النقد الدولي مع مشاكل الفساد؟ كيف يمكن ضمان استخدام أموال القرض للأغراض المقصودة؟          \n",
            " Score: 0.8034660669904811 كيف يمكن تبادل وجهات النظر حول مشاركة صندوق النقد الدولي؟    \n",
            " Score: 0.7575907659371004 ماذا يعنى مفهوم الشمول المالى؟ \n"
          ]
        }
      ]
    }
  ],
  "metadata": {
    "colab": {
      "collapsed_sections": [],
      "provenance": []
    },
    "kernelspec": {
      "display_name": "Python 3 (ipykernel)",
      "language": "python",
      "name": "python3"
    },
    "language_info": {
      "codemirror_mode": {
        "name": "ipython",
        "version": 3
      },
      "file_extension": ".py",
      "mimetype": "text/x-python",
      "name": "python",
      "nbconvert_exporter": "python",
      "pygments_lexer": "ipython3",
      "version": "3.9.7"
    }
  },
  "nbformat": 4,
  "nbformat_minor": 0
}